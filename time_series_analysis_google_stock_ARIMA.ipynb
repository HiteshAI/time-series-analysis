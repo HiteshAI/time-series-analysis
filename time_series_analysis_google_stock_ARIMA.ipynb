{
  "nbformat": 4,
  "nbformat_minor": 0,
  "metadata": {
    "kernelspec": {
      "display_name": "Python 3",
      "language": "python",
      "name": "python3"
    },
    "language_info": {
      "codemirror_mode": {
        "name": "ipython",
        "version": 3
      },
      "file_extension": ".py",
      "mimetype": "text/x-python",
      "name": "python",
      "nbconvert_exporter": "python",
      "pygments_lexer": "ipython3",
      "version": "3.6.3"
    },
    "colab": {
      "name": "time-series-analysis-google-stock-ARIMA.ipynb",
      "provenance": [],
      "collapsed_sections": []
    },
    "widgets": {
      "application/vnd.jupyter.widget-state+json": {
        "fce5fa1055ba46e58072d8479c8278e0": {
          "model_module": "@jupyter-widgets/controls",
          "model_name": "HBoxModel",
          "state": {
            "_view_name": "HBoxView",
            "_dom_classes": [],
            "_model_name": "HBoxModel",
            "_view_module": "@jupyter-widgets/controls",
            "_model_module_version": "1.5.0",
            "_view_count": null,
            "_view_module_version": "1.5.0",
            "box_style": "",
            "layout": "IPY_MODEL_ddec9cf936b747df828b72689febf5a6",
            "_model_module": "@jupyter-widgets/controls",
            "children": [
              "IPY_MODEL_a160b285e1924c87bc27586cf3da9338",
              "IPY_MODEL_479cae9a202845c1b8ab639e12068ba3"
            ]
          }
        },
        "ddec9cf936b747df828b72689febf5a6": {
          "model_module": "@jupyter-widgets/base",
          "model_name": "LayoutModel",
          "state": {
            "_view_name": "LayoutView",
            "grid_template_rows": null,
            "right": null,
            "justify_content": null,
            "_view_module": "@jupyter-widgets/base",
            "overflow": null,
            "_model_module_version": "1.2.0",
            "_view_count": null,
            "flex_flow": null,
            "width": null,
            "min_width": null,
            "border": null,
            "align_items": null,
            "bottom": null,
            "_model_module": "@jupyter-widgets/base",
            "top": null,
            "grid_column": null,
            "overflow_y": null,
            "overflow_x": null,
            "grid_auto_flow": null,
            "grid_area": null,
            "grid_template_columns": null,
            "flex": null,
            "_model_name": "LayoutModel",
            "justify_items": null,
            "grid_row": null,
            "max_height": null,
            "align_content": null,
            "visibility": null,
            "align_self": null,
            "height": null,
            "min_height": null,
            "padding": null,
            "grid_auto_rows": null,
            "grid_gap": null,
            "max_width": null,
            "order": null,
            "_view_module_version": "1.2.0",
            "grid_template_areas": null,
            "object_position": null,
            "object_fit": null,
            "grid_auto_columns": null,
            "margin": null,
            "display": null,
            "left": null
          }
        },
        "a160b285e1924c87bc27586cf3da9338": {
          "model_module": "@jupyter-widgets/controls",
          "model_name": "IntProgressModel",
          "state": {
            "_view_name": "ProgressView",
            "style": "IPY_MODEL_7e0c2ba3d84e4f709c7d8b13aa667da8",
            "_dom_classes": [],
            "description": "100%",
            "_model_name": "IntProgressModel",
            "bar_style": "success",
            "max": 3,
            "_view_module": "@jupyter-widgets/controls",
            "_model_module_version": "1.5.0",
            "value": 3,
            "_view_count": null,
            "_view_module_version": "1.5.0",
            "orientation": "horizontal",
            "min": 0,
            "description_tooltip": null,
            "_model_module": "@jupyter-widgets/controls",
            "layout": "IPY_MODEL_96cf4715d9ef45b697211605f3b4cf97"
          }
        },
        "479cae9a202845c1b8ab639e12068ba3": {
          "model_module": "@jupyter-widgets/controls",
          "model_name": "HTMLModel",
          "state": {
            "_view_name": "HTMLView",
            "style": "IPY_MODEL_2ff47afe0d1a4527bb0d3f859d439165",
            "_dom_classes": [],
            "description": "",
            "_model_name": "HTMLModel",
            "placeholder": "​",
            "_view_module": "@jupyter-widgets/controls",
            "_model_module_version": "1.5.0",
            "value": " 3/3 [06:21&lt;00:00, 127.28s/it]",
            "_view_count": null,
            "_view_module_version": "1.5.0",
            "description_tooltip": null,
            "_model_module": "@jupyter-widgets/controls",
            "layout": "IPY_MODEL_03ef400c1c1b486fbe10ce4c0fd44ee3"
          }
        },
        "7e0c2ba3d84e4f709c7d8b13aa667da8": {
          "model_module": "@jupyter-widgets/controls",
          "model_name": "ProgressStyleModel",
          "state": {
            "_view_name": "StyleView",
            "_model_name": "ProgressStyleModel",
            "description_width": "initial",
            "_view_module": "@jupyter-widgets/base",
            "_model_module_version": "1.5.0",
            "_view_count": null,
            "_view_module_version": "1.2.0",
            "bar_color": null,
            "_model_module": "@jupyter-widgets/controls"
          }
        },
        "96cf4715d9ef45b697211605f3b4cf97": {
          "model_module": "@jupyter-widgets/base",
          "model_name": "LayoutModel",
          "state": {
            "_view_name": "LayoutView",
            "grid_template_rows": null,
            "right": null,
            "justify_content": null,
            "_view_module": "@jupyter-widgets/base",
            "overflow": null,
            "_model_module_version": "1.2.0",
            "_view_count": null,
            "flex_flow": null,
            "width": null,
            "min_width": null,
            "border": null,
            "align_items": null,
            "bottom": null,
            "_model_module": "@jupyter-widgets/base",
            "top": null,
            "grid_column": null,
            "overflow_y": null,
            "overflow_x": null,
            "grid_auto_flow": null,
            "grid_area": null,
            "grid_template_columns": null,
            "flex": null,
            "_model_name": "LayoutModel",
            "justify_items": null,
            "grid_row": null,
            "max_height": null,
            "align_content": null,
            "visibility": null,
            "align_self": null,
            "height": null,
            "min_height": null,
            "padding": null,
            "grid_auto_rows": null,
            "grid_gap": null,
            "max_width": null,
            "order": null,
            "_view_module_version": "1.2.0",
            "grid_template_areas": null,
            "object_position": null,
            "object_fit": null,
            "grid_auto_columns": null,
            "margin": null,
            "display": null,
            "left": null
          }
        },
        "2ff47afe0d1a4527bb0d3f859d439165": {
          "model_module": "@jupyter-widgets/controls",
          "model_name": "DescriptionStyleModel",
          "state": {
            "_view_name": "StyleView",
            "_model_name": "DescriptionStyleModel",
            "description_width": "",
            "_view_module": "@jupyter-widgets/base",
            "_model_module_version": "1.5.0",
            "_view_count": null,
            "_view_module_version": "1.2.0",
            "_model_module": "@jupyter-widgets/controls"
          }
        },
        "03ef400c1c1b486fbe10ce4c0fd44ee3": {
          "model_module": "@jupyter-widgets/base",
          "model_name": "LayoutModel",
          "state": {
            "_view_name": "LayoutView",
            "grid_template_rows": null,
            "right": null,
            "justify_content": null,
            "_view_module": "@jupyter-widgets/base",
            "overflow": null,
            "_model_module_version": "1.2.0",
            "_view_count": null,
            "flex_flow": null,
            "width": null,
            "min_width": null,
            "border": null,
            "align_items": null,
            "bottom": null,
            "_model_module": "@jupyter-widgets/base",
            "top": null,
            "grid_column": null,
            "overflow_y": null,
            "overflow_x": null,
            "grid_auto_flow": null,
            "grid_area": null,
            "grid_template_columns": null,
            "flex": null,
            "_model_name": "LayoutModel",
            "justify_items": null,
            "grid_row": null,
            "max_height": null,
            "align_content": null,
            "visibility": null,
            "align_self": null,
            "height": null,
            "min_height": null,
            "padding": null,
            "grid_auto_rows": null,
            "grid_gap": null,
            "max_width": null,
            "order": null,
            "_view_module_version": "1.2.0",
            "grid_template_areas": null,
            "object_position": null,
            "object_fit": null,
            "grid_auto_columns": null,
            "margin": null,
            "display": null,
            "left": null
          }
        },
        "6268eb632b574301a103e5d33fd40392": {
          "model_module": "@jupyter-widgets/controls",
          "model_name": "HBoxModel",
          "state": {
            "_view_name": "HBoxView",
            "_dom_classes": [],
            "_model_name": "HBoxModel",
            "_view_module": "@jupyter-widgets/controls",
            "_model_module_version": "1.5.0",
            "_view_count": null,
            "_view_module_version": "1.5.0",
            "box_style": "",
            "layout": "IPY_MODEL_d39e2a6f5b5d46729065c27ed2c93c4b",
            "_model_module": "@jupyter-widgets/controls",
            "children": [
              "IPY_MODEL_ec4a5c1f2dc049d69abb88ced7eb7d55",
              "IPY_MODEL_99e75eae64ab46fb995954eb852b190f"
            ]
          }
        },
        "d39e2a6f5b5d46729065c27ed2c93c4b": {
          "model_module": "@jupyter-widgets/base",
          "model_name": "LayoutModel",
          "state": {
            "_view_name": "LayoutView",
            "grid_template_rows": null,
            "right": null,
            "justify_content": null,
            "_view_module": "@jupyter-widgets/base",
            "overflow": null,
            "_model_module_version": "1.2.0",
            "_view_count": null,
            "flex_flow": null,
            "width": null,
            "min_width": null,
            "border": null,
            "align_items": null,
            "bottom": null,
            "_model_module": "@jupyter-widgets/base",
            "top": null,
            "grid_column": null,
            "overflow_y": null,
            "overflow_x": null,
            "grid_auto_flow": null,
            "grid_area": null,
            "grid_template_columns": null,
            "flex": null,
            "_model_name": "LayoutModel",
            "justify_items": null,
            "grid_row": null,
            "max_height": null,
            "align_content": null,
            "visibility": null,
            "align_self": null,
            "height": null,
            "min_height": null,
            "padding": null,
            "grid_auto_rows": null,
            "grid_gap": null,
            "max_width": null,
            "order": null,
            "_view_module_version": "1.2.0",
            "grid_template_areas": null,
            "object_position": null,
            "object_fit": null,
            "grid_auto_columns": null,
            "margin": null,
            "display": null,
            "left": null
          }
        },
        "ec4a5c1f2dc049d69abb88ced7eb7d55": {
          "model_module": "@jupyter-widgets/controls",
          "model_name": "IntProgressModel",
          "state": {
            "_view_name": "ProgressView",
            "style": "IPY_MODEL_e94a9355db5d44c0b7e45757cefc0598",
            "_dom_classes": [],
            "description": "100%",
            "_model_name": "IntProgressModel",
            "bar_style": "success",
            "max": 4,
            "_view_module": "@jupyter-widgets/controls",
            "_model_module_version": "1.5.0",
            "value": 4,
            "_view_count": null,
            "_view_module_version": "1.5.0",
            "orientation": "horizontal",
            "min": 0,
            "description_tooltip": null,
            "_model_module": "@jupyter-widgets/controls",
            "layout": "IPY_MODEL_15474e1499da401a998a28b788706644"
          }
        },
        "99e75eae64ab46fb995954eb852b190f": {
          "model_module": "@jupyter-widgets/controls",
          "model_name": "HTMLModel",
          "state": {
            "_view_name": "HTMLView",
            "style": "IPY_MODEL_d082caace4ce460985c3c502ee0bde31",
            "_dom_classes": [],
            "description": "",
            "_model_name": "HTMLModel",
            "placeholder": "​",
            "_view_module": "@jupyter-widgets/controls",
            "_model_module_version": "1.5.0",
            "value": " 4/4 [00:28&lt;00:00,  7.01s/it]",
            "_view_count": null,
            "_view_module_version": "1.5.0",
            "description_tooltip": null,
            "_model_module": "@jupyter-widgets/controls",
            "layout": "IPY_MODEL_a1281589e67741bd90ca4158f8735883"
          }
        },
        "e94a9355db5d44c0b7e45757cefc0598": {
          "model_module": "@jupyter-widgets/controls",
          "model_name": "ProgressStyleModel",
          "state": {
            "_view_name": "StyleView",
            "_model_name": "ProgressStyleModel",
            "description_width": "initial",
            "_view_module": "@jupyter-widgets/base",
            "_model_module_version": "1.5.0",
            "_view_count": null,
            "_view_module_version": "1.2.0",
            "bar_color": null,
            "_model_module": "@jupyter-widgets/controls"
          }
        },
        "15474e1499da401a998a28b788706644": {
          "model_module": "@jupyter-widgets/base",
          "model_name": "LayoutModel",
          "state": {
            "_view_name": "LayoutView",
            "grid_template_rows": null,
            "right": null,
            "justify_content": null,
            "_view_module": "@jupyter-widgets/base",
            "overflow": null,
            "_model_module_version": "1.2.0",
            "_view_count": null,
            "flex_flow": null,
            "width": null,
            "min_width": null,
            "border": null,
            "align_items": null,
            "bottom": null,
            "_model_module": "@jupyter-widgets/base",
            "top": null,
            "grid_column": null,
            "overflow_y": null,
            "overflow_x": null,
            "grid_auto_flow": null,
            "grid_area": null,
            "grid_template_columns": null,
            "flex": null,
            "_model_name": "LayoutModel",
            "justify_items": null,
            "grid_row": null,
            "max_height": null,
            "align_content": null,
            "visibility": null,
            "align_self": null,
            "height": null,
            "min_height": null,
            "padding": null,
            "grid_auto_rows": null,
            "grid_gap": null,
            "max_width": null,
            "order": null,
            "_view_module_version": "1.2.0",
            "grid_template_areas": null,
            "object_position": null,
            "object_fit": null,
            "grid_auto_columns": null,
            "margin": null,
            "display": null,
            "left": null
          }
        },
        "d082caace4ce460985c3c502ee0bde31": {
          "model_module": "@jupyter-widgets/controls",
          "model_name": "DescriptionStyleModel",
          "state": {
            "_view_name": "StyleView",
            "_model_name": "DescriptionStyleModel",
            "description_width": "",
            "_view_module": "@jupyter-widgets/base",
            "_model_module_version": "1.5.0",
            "_view_count": null,
            "_view_module_version": "1.2.0",
            "_model_module": "@jupyter-widgets/controls"
          }
        },
        "a1281589e67741bd90ca4158f8735883": {
          "model_module": "@jupyter-widgets/base",
          "model_name": "LayoutModel",
          "state": {
            "_view_name": "LayoutView",
            "grid_template_rows": null,
            "right": null,
            "justify_content": null,
            "_view_module": "@jupyter-widgets/base",
            "overflow": null,
            "_model_module_version": "1.2.0",
            "_view_count": null,
            "flex_flow": null,
            "width": null,
            "min_width": null,
            "border": null,
            "align_items": null,
            "bottom": null,
            "_model_module": "@jupyter-widgets/base",
            "top": null,
            "grid_column": null,
            "overflow_y": null,
            "overflow_x": null,
            "grid_auto_flow": null,
            "grid_area": null,
            "grid_template_columns": null,
            "flex": null,
            "_model_name": "LayoutModel",
            "justify_items": null,
            "grid_row": null,
            "max_height": null,
            "align_content": null,
            "visibility": null,
            "align_self": null,
            "height": null,
            "min_height": null,
            "padding": null,
            "grid_auto_rows": null,
            "grid_gap": null,
            "max_width": null,
            "order": null,
            "_view_module_version": "1.2.0",
            "grid_template_areas": null,
            "object_position": null,
            "object_fit": null,
            "grid_auto_columns": null,
            "margin": null,
            "display": null,
            "left": null
          }
        },
        "e54aa8e4aa3b43949c61b8fd98209001": {
          "model_module": "@jupyter-widgets/controls",
          "model_name": "HBoxModel",
          "state": {
            "_view_name": "HBoxView",
            "_dom_classes": [],
            "_model_name": "HBoxModel",
            "_view_module": "@jupyter-widgets/controls",
            "_model_module_version": "1.5.0",
            "_view_count": null,
            "_view_module_version": "1.5.0",
            "box_style": "",
            "layout": "IPY_MODEL_2c777ecff56e4e24beccc949bf6cabc2",
            "_model_module": "@jupyter-widgets/controls",
            "children": [
              "IPY_MODEL_77e6701fea334b65ba7b7df1503a38e8",
              "IPY_MODEL_0293227bcf7f46789a061e761f35002f"
            ]
          }
        },
        "2c777ecff56e4e24beccc949bf6cabc2": {
          "model_module": "@jupyter-widgets/base",
          "model_name": "LayoutModel",
          "state": {
            "_view_name": "LayoutView",
            "grid_template_rows": null,
            "right": null,
            "justify_content": null,
            "_view_module": "@jupyter-widgets/base",
            "overflow": null,
            "_model_module_version": "1.2.0",
            "_view_count": null,
            "flex_flow": null,
            "width": null,
            "min_width": null,
            "border": null,
            "align_items": null,
            "bottom": null,
            "_model_module": "@jupyter-widgets/base",
            "top": null,
            "grid_column": null,
            "overflow_y": null,
            "overflow_x": null,
            "grid_auto_flow": null,
            "grid_area": null,
            "grid_template_columns": null,
            "flex": null,
            "_model_name": "LayoutModel",
            "justify_items": null,
            "grid_row": null,
            "max_height": null,
            "align_content": null,
            "visibility": null,
            "align_self": null,
            "height": null,
            "min_height": null,
            "padding": null,
            "grid_auto_rows": null,
            "grid_gap": null,
            "max_width": null,
            "order": null,
            "_view_module_version": "1.2.0",
            "grid_template_areas": null,
            "object_position": null,
            "object_fit": null,
            "grid_auto_columns": null,
            "margin": null,
            "display": null,
            "left": null
          }
        },
        "77e6701fea334b65ba7b7df1503a38e8": {
          "model_module": "@jupyter-widgets/controls",
          "model_name": "IntProgressModel",
          "state": {
            "_view_name": "ProgressView",
            "style": "IPY_MODEL_9296ebdacd10412b905bf4f60c62ce6e",
            "_dom_classes": [],
            "description": "100%",
            "_model_name": "IntProgressModel",
            "bar_style": "success",
            "max": 4,
            "_view_module": "@jupyter-widgets/controls",
            "_model_module_version": "1.5.0",
            "value": 4,
            "_view_count": null,
            "_view_module_version": "1.5.0",
            "orientation": "horizontal",
            "min": 0,
            "description_tooltip": null,
            "_model_module": "@jupyter-widgets/controls",
            "layout": "IPY_MODEL_0efbd42827804f408e484da77ee695e2"
          }
        },
        "0293227bcf7f46789a061e761f35002f": {
          "model_module": "@jupyter-widgets/controls",
          "model_name": "HTMLModel",
          "state": {
            "_view_name": "HTMLView",
            "style": "IPY_MODEL_7bdcf098bb9744709c6badd974486079",
            "_dom_classes": [],
            "description": "",
            "_model_name": "HTMLModel",
            "placeholder": "​",
            "_view_module": "@jupyter-widgets/controls",
            "_model_module_version": "1.5.0",
            "value": " 4/4 [43:49&lt;00:00, 657.35s/it]",
            "_view_count": null,
            "_view_module_version": "1.5.0",
            "description_tooltip": null,
            "_model_module": "@jupyter-widgets/controls",
            "layout": "IPY_MODEL_7cd4c46dee4342fe8e5b7cbe20d45b3b"
          }
        },
        "9296ebdacd10412b905bf4f60c62ce6e": {
          "model_module": "@jupyter-widgets/controls",
          "model_name": "ProgressStyleModel",
          "state": {
            "_view_name": "StyleView",
            "_model_name": "ProgressStyleModel",
            "description_width": "initial",
            "_view_module": "@jupyter-widgets/base",
            "_model_module_version": "1.5.0",
            "_view_count": null,
            "_view_module_version": "1.2.0",
            "bar_color": null,
            "_model_module": "@jupyter-widgets/controls"
          }
        },
        "0efbd42827804f408e484da77ee695e2": {
          "model_module": "@jupyter-widgets/base",
          "model_name": "LayoutModel",
          "state": {
            "_view_name": "LayoutView",
            "grid_template_rows": null,
            "right": null,
            "justify_content": null,
            "_view_module": "@jupyter-widgets/base",
            "overflow": null,
            "_model_module_version": "1.2.0",
            "_view_count": null,
            "flex_flow": null,
            "width": null,
            "min_width": null,
            "border": null,
            "align_items": null,
            "bottom": null,
            "_model_module": "@jupyter-widgets/base",
            "top": null,
            "grid_column": null,
            "overflow_y": null,
            "overflow_x": null,
            "grid_auto_flow": null,
            "grid_area": null,
            "grid_template_columns": null,
            "flex": null,
            "_model_name": "LayoutModel",
            "justify_items": null,
            "grid_row": null,
            "max_height": null,
            "align_content": null,
            "visibility": null,
            "align_self": null,
            "height": null,
            "min_height": null,
            "padding": null,
            "grid_auto_rows": null,
            "grid_gap": null,
            "max_width": null,
            "order": null,
            "_view_module_version": "1.2.0",
            "grid_template_areas": null,
            "object_position": null,
            "object_fit": null,
            "grid_auto_columns": null,
            "margin": null,
            "display": null,
            "left": null
          }
        },
        "7bdcf098bb9744709c6badd974486079": {
          "model_module": "@jupyter-widgets/controls",
          "model_name": "DescriptionStyleModel",
          "state": {
            "_view_name": "StyleView",
            "_model_name": "DescriptionStyleModel",
            "description_width": "",
            "_view_module": "@jupyter-widgets/base",
            "_model_module_version": "1.5.0",
            "_view_count": null,
            "_view_module_version": "1.2.0",
            "_model_module": "@jupyter-widgets/controls"
          }
        },
        "7cd4c46dee4342fe8e5b7cbe20d45b3b": {
          "model_module": "@jupyter-widgets/base",
          "model_name": "LayoutModel",
          "state": {
            "_view_name": "LayoutView",
            "grid_template_rows": null,
            "right": null,
            "justify_content": null,
            "_view_module": "@jupyter-widgets/base",
            "overflow": null,
            "_model_module_version": "1.2.0",
            "_view_count": null,
            "flex_flow": null,
            "width": null,
            "min_width": null,
            "border": null,
            "align_items": null,
            "bottom": null,
            "_model_module": "@jupyter-widgets/base",
            "top": null,
            "grid_column": null,
            "overflow_y": null,
            "overflow_x": null,
            "grid_auto_flow": null,
            "grid_area": null,
            "grid_template_columns": null,
            "flex": null,
            "_model_name": "LayoutModel",
            "justify_items": null,
            "grid_row": null,
            "max_height": null,
            "align_content": null,
            "visibility": null,
            "align_self": null,
            "height": null,
            "min_height": null,
            "padding": null,
            "grid_auto_rows": null,
            "grid_gap": null,
            "max_width": null,
            "order": null,
            "_view_module_version": "1.2.0",
            "grid_template_areas": null,
            "object_position": null,
            "object_fit": null,
            "grid_auto_columns": null,
            "margin": null,
            "display": null,
            "left": null
          }
        }
      }
    }
  },
  "cells": [
    {
      "cell_type": "markdown",
      "metadata": {
        "collapsed": true,
        "id": "0aWOoKT28WJP",
        "colab_type": "text"
      },
      "source": [
        "# Stock prediction using XGBoost"
      ]
    },
    {
      "cell_type": "markdown",
      "metadata": {
        "id": "CzBfgPCY8WJZ",
        "colab_type": "text"
      },
      "source": [
        "## Import libraries and get sample data"
      ]
    },
    {
      "cell_type": "code",
      "metadata": {
        "id": "Y-E5gFgIsQuy",
        "colab_type": "code",
        "colab": {}
      },
      "source": [
        "import math\n",
        "import matplotlib\n",
        "import numpy as np\n",
        "import pandas as pd\n",
        "import seaborn as sns\n",
        "import time\n",
        "\n",
        "from datetime import date\n",
        "from matplotlib import pyplot as plt\n",
        "from pylab import rcParams\n",
        "from sklearn.metrics import mean_squared_error\n",
        "from sklearn.preprocessing import StandardScaler\n",
        "from tqdm import tqdm_notebook\n",
        "from xgboost import XGBRegressor\n",
        "\n",
        "%matplotlib inline\n",
        "\n",
        "#### Input params ##################\n",
        "stk_path = \"google_stock_data.csv\"\n",
        "test_size = 0.2                # proportion of dataset to be used as test set\n",
        "cv_size = 0.2                  # proportion of dataset to be used as cross-validation set\n",
        "N = 3                         # for feature at day t, we use lags from t-1, t-2, ..., t-N as features\n",
        "\n",
        "n_estimators = 100             # Number of boosted trees to fit. default = 100\n",
        "max_depth = 3                  # Maximum tree depth for base learners. default = 3\n",
        "learning_rate = 0.1            # Boosting learning rate (xgb’s “eta”). default = 0.1\n",
        "min_child_weight = 1           # Minimum sum of instance weight(hessian) needed in a child. default = 1\n",
        "subsample = 1                  # Subsample ratio of the training instance. default = 1\n",
        "colsample_bytree = 1           # Subsample ratio of columns when constructing each tree. default = 1\n",
        "colsample_bylevel = 1          # Subsample ratio of columns for each split, in each level. default = 1\n",
        "gamma = 0                      # Minimum loss reduction required to make a further partition on a leaf node of the tree. default=0\n",
        "\n",
        "model_seed = 100\n",
        "\n",
        "fontsize = 14\n",
        "ticklabelsize = 14\n"
      ],
      "execution_count": 0,
      "outputs": []
    },
    {
      "cell_type": "code",
      "metadata": {
        "id": "G62d5747ONM7",
        "colab_type": "code",
        "colab": {}
      },
      "source": [
        "def get_mov_avg_std(df, col, N):\n",
        "    \"\"\"\n",
        "    Given a dataframe, get mean and std dev at timestep t using values from t-1, t-2, ..., t-N.\n",
        "    Inputs\n",
        "        df         : dataframe. Can be of any length.\n",
        "        col        : name of the column you want to calculate mean and std dev\n",
        "        N          : get mean and std dev at timestep t using values from t-1, t-2, ..., t-N\n",
        "    Outputs\n",
        "        df_out     : same as df but with additional column containing mean and std dev\n",
        "    \"\"\"\n",
        "    mean_list = df[col].rolling(window = N, min_periods=1).mean() # len(mean_list) = len(df)\n",
        "    std_list = df[col].rolling(window = N, min_periods=1).std()   # first value will be NaN, because normalized by N-1\n",
        "    \n",
        "    # Add one timestep to the predictions\n",
        "    mean_list = np.concatenate((np.array([np.nan]), np.array(mean_list[:-1])))\n",
        "    std_list = np.concatenate((np.array([np.nan]), np.array(std_list[:-1])))\n",
        "    \n",
        "    # Append mean_list to df\n",
        "    df_out = df.copy()\n",
        "    df_out[col + '_mean'] = mean_list\n",
        "    df_out[col + '_std'] = std_list\n",
        "    \n",
        "    return df_out\n",
        "\n",
        "def scale_row(row, feat_mean, feat_std):\n",
        "    \"\"\"\n",
        "    Given a pandas series in row, scale it to have 0 mean and var 1 using feat_mean and feat_std\n",
        "    Inputs\n",
        "        row      : pandas series. Need to scale this.\n",
        "        feat_mean: mean  \n",
        "        feat_std : standard deviation\n",
        "    Outputs\n",
        "        row_scaled : pandas series with same length as row, but scaled\n",
        "    \"\"\"\n",
        "    # If feat_std = 0 (this happens if adj_close doesn't change over N days), \n",
        "    # set it to a small number to avoid division by zero\n",
        "    feat_std = 0.001 if feat_std == 0 else feat_std\n",
        "    \n",
        "    row_scaled = (row-feat_mean) / feat_std\n",
        "    \n",
        "    return row_scaled\n",
        "\n",
        "def get_mape(y_true, y_pred): \n",
        "    \"\"\"\n",
        "    Compute mean absolute percentage error (MAPE)\n",
        "    \"\"\"\n",
        "    y_true, y_pred = np.array(y_true), np.array(y_pred)\n",
        "    return np.mean(np.abs((y_true - y_pred) / y_true)) * 100\n",
        "\n",
        "def train_pred_eval_model(X_train_scaled, \\\n",
        "                          y_train_scaled, \\\n",
        "                          X_test_scaled, \\\n",
        "                          y_test, \\\n",
        "                          col_mean, \\\n",
        "                          col_std, \\\n",
        "                          seed=100, \\\n",
        "                          n_estimators=100, \\\n",
        "                          max_depth=3, \\\n",
        "                          learning_rate=0.1, \\\n",
        "                          min_child_weight=1, \\\n",
        "                          subsample=1, \\\n",
        "                          colsample_bytree=1, \\\n",
        "                          colsample_bylevel=1, \\\n",
        "                          gamma=0):\n",
        "    '''\n",
        "    Train model, do prediction, scale back to original range and do evaluation\n",
        "    Use XGBoost here.\n",
        "    Inputs\n",
        "        X_train_scaled     : features for training. Scaled to have mean 0 and variance 1\n",
        "        y_train_scaled     : target for training. Scaled to have mean 0 and variance 1\n",
        "        X_test_scaled      : features for test. Each sample is scaled to mean 0 and variance 1\n",
        "        y_test             : target for test. Actual values, not scaled.\n",
        "        col_mean           : means used to scale each sample of X_test_scaled. Same length as X_test_scaled and y_test\n",
        "        col_std            : standard deviations used to scale each sample of X_test_scaled. Same length as X_test_scaled and y_test\n",
        "        seed               : model seed\n",
        "        n_estimators       : number of boosted trees to fit\n",
        "        max_depth          : maximum tree depth for base learners\n",
        "        learning_rate      : boosting learning rate (xgb’s “eta”)\n",
        "        min_child_weight   : minimum sum of instance weight(hessian) needed in a child\n",
        "        subsample          : subsample ratio of the training instance\n",
        "        colsample_bytree   : subsample ratio of columns when constructing each tree\n",
        "        colsample_bylevel  : subsample ratio of columns for each split, in each level\n",
        "        gamma              : \n",
        "    Outputs\n",
        "        rmse               : root mean square error of y_test and est\n",
        "        mape               : mean absolute percentage error of y_test and est\n",
        "        est                : predicted values. Same length as y_test\n",
        "    '''\n",
        "\n",
        "    model = XGBRegressor(seed=model_seed,\n",
        "                         n_estimators=n_estimators,\n",
        "                         max_depth=max_depth,\n",
        "                         learning_rate=learning_rate,\n",
        "                         min_child_weight=min_child_weight,\n",
        "                         subsample=subsample,\n",
        "                         colsample_bytree=colsample_bytree,\n",
        "                         colsample_bylevel=colsample_bylevel,\n",
        "                         gamma=gamma)\n",
        "    \n",
        "    # Train the model\n",
        "    model.fit(X_train_scaled, y_train_scaled)\n",
        "    \n",
        "    # Get predicted labels and scale back to original range\n",
        "    est_scaled = model.predict(X_test_scaled)\n",
        "    est = est_scaled * col_std + col_mean\n",
        "\n",
        "    # Calculate RMSE\n",
        "    rmse = math.sqrt(mean_squared_error(y_test, est))\n",
        "    mape = get_mape(y_test, est)\n",
        "    \n",
        "    return rmse, mape, est"
      ],
      "execution_count": 0,
      "outputs": []
    },
    {
      "cell_type": "code",
      "metadata": {
        "id": "RmLNySuXOM9o",
        "colab_type": "code",
        "colab": {
          "base_uri": "https://localhost:8080/",
          "height": 204
        },
        "outputId": "2358313c-c373-4a8e-9bcf-5e0a7f3b61a0"
      },
      "source": [
        "df = pd.read_csv(stk_path, sep = \",\")\n",
        "\n",
        "# # Convert Date column to datetime\n",
        "# df.loc[:, 'Date'] = pd.to_datetime(df['Date'],format='%Y-%m-%d')\n",
        "\n",
        "# # Change all column headings to be lower case, and remove spacing\n",
        "# df.columns = [str(x).lower().replace(' ', '_') for x in df.columns]\n",
        "\n",
        "# # Get month of each sample\n",
        "# df['month'] = df['date'].dt.month\n",
        "\n",
        "# # Sort by datetime\n",
        "# df.sort_values(by='date', inplace=True, ascending=True)\n",
        "\n",
        "df.tail()"
      ],
      "execution_count": 66,
      "outputs": [
        {
          "output_type": "execute_result",
          "data": {
            "text/html": [
              "<div>\n",
              "<style scoped>\n",
              "    .dataframe tbody tr th:only-of-type {\n",
              "        vertical-align: middle;\n",
              "    }\n",
              "\n",
              "    .dataframe tbody tr th {\n",
              "        vertical-align: top;\n",
              "    }\n",
              "\n",
              "    .dataframe thead th {\n",
              "        text-align: right;\n",
              "    }\n",
              "</style>\n",
              "<table border=\"1\" class=\"dataframe\">\n",
              "  <thead>\n",
              "    <tr style=\"text-align: right;\">\n",
              "      <th></th>\n",
              "      <th>Date</th>\n",
              "      <th>Open</th>\n",
              "      <th>High</th>\n",
              "      <th>Low</th>\n",
              "      <th>Close</th>\n",
              "      <th>Adj Close</th>\n",
              "      <th>Volume</th>\n",
              "    </tr>\n",
              "  </thead>\n",
              "  <tbody>\n",
              "    <tr>\n",
              "      <th>3804</th>\n",
              "      <td>2019-09-30</td>\n",
              "      <td>1220.969971</td>\n",
              "      <td>1226.000000</td>\n",
              "      <td>1212.300049</td>\n",
              "      <td>1219.000000</td>\n",
              "      <td>1219.000000</td>\n",
              "      <td>1404100</td>\n",
              "    </tr>\n",
              "    <tr>\n",
              "      <th>3805</th>\n",
              "      <td>2019-10-01</td>\n",
              "      <td>1219.000000</td>\n",
              "      <td>1231.229980</td>\n",
              "      <td>1203.579956</td>\n",
              "      <td>1205.099976</td>\n",
              "      <td>1205.099976</td>\n",
              "      <td>1273500</td>\n",
              "    </tr>\n",
              "    <tr>\n",
              "      <th>3806</th>\n",
              "      <td>2019-10-02</td>\n",
              "      <td>1196.979980</td>\n",
              "      <td>1196.979980</td>\n",
              "      <td>1171.290039</td>\n",
              "      <td>1176.630005</td>\n",
              "      <td>1176.630005</td>\n",
              "      <td>1615100</td>\n",
              "    </tr>\n",
              "    <tr>\n",
              "      <th>3807</th>\n",
              "      <td>2019-10-03</td>\n",
              "      <td>1180.000000</td>\n",
              "      <td>1189.060059</td>\n",
              "      <td>1162.430054</td>\n",
              "      <td>1187.829956</td>\n",
              "      <td>1187.829956</td>\n",
              "      <td>1621200</td>\n",
              "    </tr>\n",
              "    <tr>\n",
              "      <th>3808</th>\n",
              "      <td>2019-10-04</td>\n",
              "      <td>1191.890015</td>\n",
              "      <td>1211.439941</td>\n",
              "      <td>1189.170044</td>\n",
              "      <td>1209.000000</td>\n",
              "      <td>1209.000000</td>\n",
              "      <td>1021092</td>\n",
              "    </tr>\n",
              "  </tbody>\n",
              "</table>\n",
              "</div>"
            ],
            "text/plain": [
              "            Date         Open         High  ...        Close    Adj Close   Volume\n",
              "3804  2019-09-30  1220.969971  1226.000000  ...  1219.000000  1219.000000  1404100\n",
              "3805  2019-10-01  1219.000000  1231.229980  ...  1205.099976  1205.099976  1273500\n",
              "3806  2019-10-02  1196.979980  1196.979980  ...  1176.630005  1176.630005  1615100\n",
              "3807  2019-10-03  1180.000000  1189.060059  ...  1187.829956  1187.829956  1621200\n",
              "3808  2019-10-04  1191.890015  1211.439941  ...  1209.000000  1209.000000  1021092\n",
              "\n",
              "[5 rows x 7 columns]"
            ]
          },
          "metadata": {
            "tags": []
          },
          "execution_count": 66
        }
      ]
    },
    {
      "cell_type": "code",
      "metadata": {
        "id": "ZlsDCVLZsQh3",
        "colab_type": "code",
        "colab": {
          "base_uri": "https://localhost:8080/",
          "height": 514
        },
        "outputId": "4ca866ef-6547-45a9-d7da-3e93852ab5ef"
      },
      "source": [
        "# Plot adjusted close over time\n",
        "rcParams['figure.figsize'] = 10, 8 # width 10, height 8\n",
        "\n",
        "ax = df.plot(x='Date', y='Open', style='b-', grid=True)\n",
        "ax.set_xlabel(\"Date\")\n",
        "ax.set_ylabel(\"Stock_Price\")"
      ],
      "execution_count": 67,
      "outputs": [
        {
          "output_type": "execute_result",
          "data": {
            "text/plain": [
              "Text(0, 0.5, 'Stock_Price')"
            ]
          },
          "metadata": {
            "tags": []
          },
          "execution_count": 67
        },
        {
          "output_type": "display_data",
          "data": {
            "image/png": "[encoded data removed]",
            "text/plain": [
              "<Figure size 720x576 with 1 Axes>"
            ]
          },
          "metadata": {
            "tags": [],
            "needs_background": "light"
          }
        }
      ]
    },
    {
      "cell_type": "code",
      "metadata": {
        "id": "1_UWTUqUQ0Fh",
        "colab_type": "code",
        "colab": {
          "base_uri": "https://localhost:8080/",
          "height": 85
        },
        "outputId": "3d6c565d-6c9b-4476-fb38-653a64944343"
      },
      "source": [
        "# Get sizes of each of the datasets\n",
        "# num_cv = int(cv_size*len(df))\n",
        "num_test = int(test_size*len(df))\n",
        "num_train = len(df) - num_test\n",
        "print(\"num_train = \" + str(num_train))\n",
        "print(\"num_test = \" + str(num_test))\n",
        "\n",
        "# Split into train, cv, and test\n",
        "train = df[:num_train]\n",
        "test = df[num_train:]\n",
        "print(\"train.shape = \" + str(train.shape))\n",
        "print(\"test.shape = \" + str(test.shape))"
      ],
      "execution_count": 68,
      "outputs": [
        {
          "output_type": "stream",
          "text": [
            "num_train = 3048\n",
            "num_test = 761\n",
            "train.shape = (3048, 7)\n",
            "test.shape = (761, 7)\n"
          ],
          "name": "stdout"
        }
      ]
    },
    {
      "cell_type": "code",
      "metadata": {
        "id": "hx7br1H4Q0D1",
        "colab_type": "code",
        "colab": {
          "base_uri": "https://localhost:8080/",
          "height": 255
        },
        "outputId": "d20009e2-2e88-400c-b4a6-661a7808fcfa"
      },
      "source": [
        "df.info()"
      ],
      "execution_count": 69,
      "outputs": [
        {
          "output_type": "stream",
          "text": [
            "<class 'pandas.core.frame.DataFrame'>\n",
            "RangeIndex: 3809 entries, 0 to 3808\n",
            "Data columns (total 7 columns):\n",
            " #   Column     Non-Null Count  Dtype  \n",
            "---  ------     --------------  -----  \n",
            " 0   Date       3809 non-null   object \n",
            " 1   Open       3809 non-null   float64\n",
            " 2   High       3809 non-null   float64\n",
            " 3   Low        3809 non-null   float64\n",
            " 4   Close      3809 non-null   float64\n",
            " 5   Adj Close  3809 non-null   float64\n",
            " 6   Volume     3809 non-null   int64  \n",
            "dtypes: float64(5), int64(1), object(1)\n",
            "memory usage: 208.4+ KB\n"
          ],
          "name": "stdout"
        }
      ]
    },
    {
      "cell_type": "code",
      "metadata": {
        "id": "CrdDl8BSQz-x",
        "colab_type": "code",
        "colab": {
          "base_uri": "https://localhost:8080/",
          "height": 337
        },
        "outputId": "6d68d3b4-2d08-4a53-ce08-9b8461bd6ee1"
      },
      "source": [
        "# Plot adjusted close over time\n",
        "# rcParams['figure.figsize'] = 10, 8 # width 10, height 8\n",
        "\n",
        "# ax = train.plot(x='Date', y='Adj Close', style='b-', grid=True)\n",
        "# ax = test.plot(x='Date', y='Adj Close', style='g-', grid=True, ax=ax)\n",
        "\n",
        "\n",
        "plt.figure(figsize=(14,5))\n",
        "#plotting the data\n",
        "train['Open'].plot()\n",
        "test['Open'].plot()\n",
        "# ax.legend(['train', 'test'])\n",
        "# ax.set_xlabel(\"Date\")\n",
        "# ax.set_ylabel(\"USD\")\n",
        "# ax.set_title(\"Without scaling\")"
      ],
      "execution_count": 70,
      "outputs": [
        {
          "output_type": "execute_result",
          "data": {
            "text/plain": [
              "<matplotlib.axes._subplots.AxesSubplot at 0x7f8ca42ceb00>"
            ]
          },
          "metadata": {
            "tags": []
          },
          "execution_count": 70
        },
        {
          "output_type": "display_data",
          "data": {
            "image/png": "[encoded data removed]",
            "text/plain": [
              "<Figure size 1008x360 with 1 Axes>"
            ]
          },
          "metadata": {
            "tags": [],
            "needs_background": "light"
          }
        }
      ]
    },
    {
      "cell_type": "code",
      "metadata": {
        "id": "dvkkWmY2Qz8K",
        "colab_type": "code",
        "colab": {
          "base_uri": "https://localhost:8080/",
          "height": 85
        },
        "outputId": "8e67864e-8dc2-4622-fee2-67417079eac1"
      },
      "source": [
        "features = [\"Adj Close\", \"High\", \"Low\", \"Close\"]\n",
        "target = \"Open\"\n",
        "# Split into X and y\n",
        "X_train = train[features]\n",
        "y_train = train[target]\n",
        "\n",
        "X_test = test[features]\n",
        "y_test = test[target]\n",
        "\n",
        "print(\"X_train.shape = \" + str(X_train.shape))\n",
        "print(\"y_train.shape = \" + str(y_train.shape))\n",
        "\n",
        "print(\"X_test.shape = \" + str(X_test.shape))\n",
        "print(\"y_test.shape = \" + str(y_test.shape))\n"
      ],
      "execution_count": 71,
      "outputs": [
        {
          "output_type": "stream",
          "text": [
            "X_train.shape = (3048, 4)\n",
            "y_train.shape = (3048,)\n",
            "X_test.shape = (761, 4)\n",
            "y_test.shape = (761,)\n"
          ],
          "name": "stdout"
        }
      ]
    },
    {
      "cell_type": "code",
      "metadata": {
        "id": "H6UqD7ahQz2x",
        "colab_type": "code",
        "colab": {
          "base_uri": "https://localhost:8080/",
          "height": 153
        },
        "outputId": "69ca7b55-5b05-4f32-be7b-6fadfdcb3288"
      },
      "source": [
        "# Create the model\n",
        "model = XGBRegressor(seed=model_seed,\n",
        "                     n_estimators=n_estimators,\n",
        "                     max_depth=max_depth,\n",
        "                     learning_rate=learning_rate,\n",
        "                     min_child_weight=min_child_weight,\n",
        "                     subsample=subsample,\n",
        "                     colsample_bytree=colsample_bytree,\n",
        "                     colsample_bylevel=colsample_bylevel,\n",
        "                     gamma=gamma)\n",
        "\n",
        "# Train the regressor\n",
        "model.fit(X_train, y_train)"
      ],
      "execution_count": 72,
      "outputs": [
        {
          "output_type": "stream",
          "text": [
            "[05:51:10] WARNING: /workspace/src/objective/regression_obj.cu:152: reg:linear is now deprecated in favor of reg:squarederror.\n"
          ],
          "name": "stdout"
        },
        {
          "output_type": "execute_result",
          "data": {
            "text/plain": [
              "XGBRegressor(base_score=0.5, booster='gbtree', colsample_bylevel=1,\n",
              "             colsample_bynode=1, colsample_bytree=1, gamma=0,\n",
              "             importance_type='gain', learning_rate=0.1, max_delta_step=0,\n",
              "             max_depth=3, min_child_weight=1, missing=None, n_estimators=100,\n",
              "             n_jobs=1, nthread=None, objective='reg:linear', random_state=0,\n",
              "             reg_alpha=0, reg_lambda=1, scale_pos_weight=1, seed=100,\n",
              "             silent=None, subsample=1, verbosity=1)"
            ]
          },
          "metadata": {
            "tags": []
          },
          "execution_count": 72
        }
      ]
    },
    {
      "cell_type": "code",
      "metadata": {
        "colab_type": "code",
        "id": "JuH-iWPwXX7e",
        "colab": {}
      },
      "source": [
        "# Do prediction on train set\n",
        "y_pred = model.predict(X_train)"
      ],
      "execution_count": 0,
      "outputs": []
    },
    {
      "cell_type": "code",
      "metadata": {
        "id": "D3Zi5kBCaXK5",
        "colab_type": "code",
        "colab": {
          "base_uri": "https://localhost:8080/",
          "height": 530
        },
        "outputId": "9df24702-76d8-4d9c-c1cc-a241aef26284"
      },
      "source": [
        "# Plot adjusted close over time\n",
        "rcParams['figure.figsize'] = 10, 8 # width 10, height 8\n",
        "\n",
        "ax = train.plot(x='Date', y='Adj Close', style='b-', grid=True)\n",
        "ax = test.plot(x='Date', y='Adj Close', style='g-', grid=True, ax=ax)\n",
        "ax.legend(['train','test'])\n",
        "ax.set_xlabel(\"date\")\n",
        "ax.set_ylabel(\"Stock\")\n",
        "ax.set_title(\"Without scaling\")"
      ],
      "execution_count": 82,
      "outputs": [
        {
          "output_type": "execute_result",
          "data": {
            "text/plain": [
              "Text(0.5, 1.0, 'Without scaling')"
            ]
          },
          "metadata": {
            "tags": []
          },
          "execution_count": 82
        },
        {
          "output_type": "display_data",
          "data": {
            "image/png": "[encoded data removed]",
            "text/plain": [
              "<Figure size 720x576 with 1 Axes>"
            ]
          },
          "metadata": {
            "tags": [],
            "needs_background": "light"
          }
        }
      ]
    },
    {
      "cell_type": "code",
      "metadata": {
        "id": "2arEN1F_aW_X",
        "colab_type": "code",
        "colab": {}
      },
      "source": [
        ""
      ],
      "execution_count": 0,
      "outputs": []
    },
    {
      "cell_type": "code",
      "metadata": {
        "id": "fiQa6IiwaWzB",
        "colab_type": "code",
        "colab": {}
      },
      "source": [
        ""
      ],
      "execution_count": 0,
      "outputs": []
    },
    {
      "cell_type": "code",
      "metadata": {
        "id": "PCfvBhPeQzwd",
        "colab_type": "code",
        "colab": {}
      },
      "source": [
        ""
      ],
      "execution_count": 0,
      "outputs": []
    },
    {
      "cell_type": "code",
      "metadata": {
        "id": "3URQHIh-Qzl5",
        "colab_type": "code",
        "colab": {}
      },
      "source": [
        ""
      ],
      "execution_count": 0,
      "outputs": []
    },
    {
      "cell_type": "code",
      "metadata": {
        "id": "9lWQxLfDWCQb",
        "colab_type": "code",
        "colab": {}
      },
      "source": [
        ""
      ],
      "execution_count": 0,
      "outputs": []
    },
    {
      "cell_type": "code",
      "metadata": {
        "id": "Lu9DoGGzWCN4",
        "colab_type": "code",
        "colab": {}
      },
      "source": [
        ""
      ],
      "execution_count": 0,
      "outputs": []
    },
    {
      "cell_type": "code",
      "metadata": {
        "id": "UrEMx-jeWCJp",
        "colab_type": "code",
        "colab": {}
      },
      "source": [
        ""
      ],
      "execution_count": 0,
      "outputs": []
    },
    {
      "cell_type": "code",
      "metadata": {
        "id": "c8HP8CcMWCGr",
        "colab_type": "code",
        "colab": {}
      },
      "source": [
        ""
      ],
      "execution_count": 0,
      "outputs": []
    },
    {
      "cell_type": "code",
      "metadata": {
        "id": "XHaX03Gdoi9T",
        "colab_type": "code",
        "colab": {
          "base_uri": "https://localhost:8080/",
          "height": 204
        },
        "outputId": "a8dc8f6f-2cc6-41fa-a3e5-e17c92722a4a"
      },
      "source": [
        "df['range_hl'] = df['high'] - df['low']\n",
        "df.drop(['high', 'low'], axis=1, inplace=True)\n",
        "\n",
        "# Get difference between open and close of each day\n",
        "df['range_oc'] = df['open'] - df['close']\n",
        "df.drop(['open', 'close'], axis=1, inplace=True)\n",
        "df.head()"
      ],
      "execution_count": 32,
      "outputs": [
        {
          "output_type": "execute_result",
          "data": {
            "text/html": [
              "<div>\n",
              "<style scoped>\n",
              "    .dataframe tbody tr th:only-of-type {\n",
              "        vertical-align: middle;\n",
              "    }\n",
              "\n",
              "    .dataframe tbody tr th {\n",
              "        vertical-align: top;\n",
              "    }\n",
              "\n",
              "    .dataframe thead th {\n",
              "        text-align: right;\n",
              "    }\n",
              "</style>\n",
              "<table border=\"1\" class=\"dataframe\">\n",
              "  <thead>\n",
              "    <tr style=\"text-align: right;\">\n",
              "      <th></th>\n",
              "      <th>date</th>\n",
              "      <th>adj_close</th>\n",
              "      <th>volume</th>\n",
              "      <th>month</th>\n",
              "      <th>range_hl</th>\n",
              "      <th>range_oc</th>\n",
              "    </tr>\n",
              "  </thead>\n",
              "  <tbody>\n",
              "    <tr>\n",
              "      <th>0</th>\n",
              "      <td>2004-08-19</td>\n",
              "      <td>49.982655</td>\n",
              "      <td>44871300</td>\n",
              "      <td>8</td>\n",
              "      <td>4.034878</td>\n",
              "      <td>-0.169369</td>\n",
              "    </tr>\n",
              "    <tr>\n",
              "      <th>1</th>\n",
              "      <td>2004-08-20</td>\n",
              "      <td>53.952770</td>\n",
              "      <td>22942800</td>\n",
              "      <td>8</td>\n",
              "      <td>4.273979</td>\n",
              "      <td>-3.636368</td>\n",
              "    </tr>\n",
              "    <tr>\n",
              "      <th>2</th>\n",
              "      <td>2004-08-23</td>\n",
              "      <td>54.495735</td>\n",
              "      <td>18342800</td>\n",
              "      <td>8</td>\n",
              "      <td>2.206730</td>\n",
              "      <td>0.672482</td>\n",
              "    </tr>\n",
              "    <tr>\n",
              "      <th>3</th>\n",
              "      <td>2004-08-24</td>\n",
              "      <td>52.239193</td>\n",
              "      <td>15319700</td>\n",
              "      <td>8</td>\n",
              "      <td>4.000008</td>\n",
              "      <td>3.173107</td>\n",
              "    </tr>\n",
              "    <tr>\n",
              "      <th>4</th>\n",
              "      <td>2004-08-25</td>\n",
              "      <td>52.802086</td>\n",
              "      <td>9232100</td>\n",
              "      <td>8</td>\n",
              "      <td>2.052307</td>\n",
              "      <td>-0.518059</td>\n",
              "    </tr>\n",
              "  </tbody>\n",
              "</table>\n",
              "</div>"
            ],
            "text/plain": [
              "        date  adj_close    volume  month  range_hl  range_oc\n",
              "0 2004-08-19  49.982655  44871300      8  4.034878 -0.169369\n",
              "1 2004-08-20  53.952770  22942800      8  4.273979 -3.636368\n",
              "2 2004-08-23  54.495735  18342800      8  2.206730  0.672482\n",
              "3 2004-08-24  52.239193  15319700      8  4.000008  3.173107\n",
              "4 2004-08-25  52.802086   9232100      8  2.052307 -0.518059"
            ]
          },
          "metadata": {
            "tags": []
          },
          "execution_count": 32
        }
      ]
    },
    {
      "cell_type": "code",
      "metadata": {
        "id": "w8sY6mTYoi6X",
        "colab_type": "code",
        "colab": {
          "base_uri": "https://localhost:8080/",
          "height": 34
        },
        "outputId": "acf9d456-23d7-4b89-e00c-878bc84a8889"
      },
      "source": [
        "# Add a column 'order_day' to indicate the order of the rows by date\n",
        "df['order_day'] = [x for x in list(range(len(df)))]\n",
        "\n",
        "# merging_keys\n",
        "merging_keys = ['order_day']\n",
        "\n",
        "# List of columns that we will use to create lags\n",
        "lag_cols = ['adj_close', 'range_hl', 'range_oc', 'volume']\n",
        "lag_cols"
      ],
      "execution_count": 33,
      "outputs": [
        {
          "output_type": "execute_result",
          "data": {
            "text/plain": [
              "['adj_close', 'range_hl', 'range_oc', 'volume']"
            ]
          },
          "metadata": {
            "tags": []
          },
          "execution_count": 33
        }
      ]
    },
    {
      "cell_type": "code",
      "metadata": {
        "id": "jbmOEr8WH05i",
        "colab_type": "code",
        "colab": {
          "base_uri": "https://localhost:8080/",
          "height": 409,
          "referenced_widgets": [
            "fce5fa1055ba46e58072d8479c8278e0",
            "ddec9cf936b747df828b72689febf5a6",
            "a160b285e1924c87bc27586cf3da9338",
            "479cae9a202845c1b8ab639e12068ba3",
            "7e0c2ba3d84e4f709c7d8b13aa667da8",
            "96cf4715d9ef45b697211605f3b4cf97",
            "2ff47afe0d1a4527bb0d3f859d439165",
            "03ef400c1c1b486fbe10ce4c0fd44ee3"
          ]
        },
        "outputId": "bed13c0f-64d6-47c5-ee30-f95b532482e9"
      },
      "source": [
        "shift_range = [x+1 for x in range(N)]\n",
        "\n",
        "for shift in tqdm_notebook(shift_range):\n",
        "    train_shift = df[merging_keys + lag_cols].copy()\n",
        "    \n",
        "    # E.g. order_day of 0 becomes 1, for shift = 1.\n",
        "    # So when this is merged with order_day of 1 in df, this will represent lag of 1.\n",
        "    train_shift['order_day'] = train_shift['order_day'] + shift\n",
        "    \n",
        "    foo = lambda x: '{}_lag_{}'.format(x, shift) if x in lag_cols else x\n",
        "    train_shift = train_shift.rename(columns=foo)\n",
        "\n",
        "    df = pd.merge(df, train_shift, on=merging_keys, how='left') #.fillna(0)\n",
        "    \n",
        "del train_shift\n",
        "\n",
        "# Remove the first N rows which contain NaNs\n",
        "df = df[N:]\n",
        "    \n",
        "df.head()"
      ],
      "execution_count": 7,
      "outputs": [
        {
          "output_type": "stream",
          "text": [
            "/usr/local/lib/python3.6/dist-packages/ipykernel_launcher.py:3: TqdmDeprecationWarning: This function will be removed in tqdm==5.0.0\n",
            "Please use `tqdm.notebook.tqdm` instead of `tqdm.tqdm_notebook`\n",
            "  This is separate from the ipykernel package so we can avoid doing imports until\n"
          ],
          "name": "stderr"
        },
        {
          "output_type": "display_data",
          "data": {
            "application/vnd.jupyter.widget-view+json": {
              "model_id": "fce5fa1055ba46e58072d8479c8278e0",
              "version_minor": 0,
              "version_major": 2
            },
            "text/plain": [
              "HBox(children=(IntProgress(value=0, max=3), HTML(value='')))"
            ]
          },
          "metadata": {
            "tags": []
          }
        },
        {
          "output_type": "stream",
          "text": [
            "\n"
          ],
          "name": "stdout"
        },
        {
          "output_type": "execute_result",
          "data": {
            "text/html": [
              "<div>\n",
              "<style scoped>\n",
              "    .dataframe tbody tr th:only-of-type {\n",
              "        vertical-align: middle;\n",
              "    }\n",
              "\n",
              "    .dataframe tbody tr th {\n",
              "        vertical-align: top;\n",
              "    }\n",
              "\n",
              "    .dataframe thead th {\n",
              "        text-align: right;\n",
              "    }\n",
              "</style>\n",
              "<table border=\"1\" class=\"dataframe\">\n",
              "  <thead>\n",
              "    <tr style=\"text-align: right;\">\n",
              "      <th></th>\n",
              "      <th>date</th>\n",
              "      <th>adj_close</th>\n",
              "      <th>volume</th>\n",
              "      <th>month</th>\n",
              "      <th>range_hl</th>\n",
              "      <th>range_oc</th>\n",
              "      <th>order_day</th>\n",
              "      <th>adj_close_lag_1</th>\n",
              "      <th>range_hl_lag_1</th>\n",
              "      <th>range_oc_lag_1</th>\n",
              "      <th>volume_lag_1</th>\n",
              "      <th>adj_close_lag_2</th>\n",
              "      <th>range_hl_lag_2</th>\n",
              "      <th>range_oc_lag_2</th>\n",
              "      <th>volume_lag_2</th>\n",
              "      <th>adj_close_lag_3</th>\n",
              "      <th>range_hl_lag_3</th>\n",
              "      <th>range_oc_lag_3</th>\n",
              "      <th>volume_lag_3</th>\n",
              "    </tr>\n",
              "  </thead>\n",
              "  <tbody>\n",
              "    <tr>\n",
              "      <th>3</th>\n",
              "      <td>2004-08-24</td>\n",
              "      <td>52.239193</td>\n",
              "      <td>15319700</td>\n",
              "      <td>8</td>\n",
              "      <td>4.000008</td>\n",
              "      <td>3.173107</td>\n",
              "      <td>3</td>\n",
              "      <td>54.495735</td>\n",
              "      <td>2.206730</td>\n",
              "      <td>0.672482</td>\n",
              "      <td>18342800.0</td>\n",
              "      <td>53.952770</td>\n",
              "      <td>4.273979</td>\n",
              "      <td>-3.636368</td>\n",
              "      <td>22942800.0</td>\n",
              "      <td>49.982655</td>\n",
              "      <td>4.034878</td>\n",
              "      <td>-0.169369</td>\n",
              "      <td>44871300.0</td>\n",
              "    </tr>\n",
              "    <tr>\n",
              "      <th>4</th>\n",
              "      <td>2004-08-25</td>\n",
              "      <td>52.802086</td>\n",
              "      <td>9232100</td>\n",
              "      <td>8</td>\n",
              "      <td>2.052307</td>\n",
              "      <td>-0.518059</td>\n",
              "      <td>4</td>\n",
              "      <td>52.239193</td>\n",
              "      <td>4.000008</td>\n",
              "      <td>3.173107</td>\n",
              "      <td>15319700.0</td>\n",
              "      <td>54.495735</td>\n",
              "      <td>2.206730</td>\n",
              "      <td>0.672482</td>\n",
              "      <td>18342800.0</td>\n",
              "      <td>53.952770</td>\n",
              "      <td>4.273979</td>\n",
              "      <td>-3.636368</td>\n",
              "      <td>22942800.0</td>\n",
              "    </tr>\n",
              "    <tr>\n",
              "      <th>5</th>\n",
              "      <td>2004-08-26</td>\n",
              "      <td>53.753517</td>\n",
              "      <td>7128600</td>\n",
              "      <td>8</td>\n",
              "      <td>1.638859</td>\n",
              "      <td>-1.474472</td>\n",
              "      <td>5</td>\n",
              "      <td>52.802086</td>\n",
              "      <td>2.052307</td>\n",
              "      <td>-0.518059</td>\n",
              "      <td>9232100.0</td>\n",
              "      <td>52.239193</td>\n",
              "      <td>4.000008</td>\n",
              "      <td>3.173107</td>\n",
              "      <td>15319700.0</td>\n",
              "      <td>54.495735</td>\n",
              "      <td>2.206730</td>\n",
              "      <td>0.672482</td>\n",
              "      <td>18342800.0</td>\n",
              "    </tr>\n",
              "    <tr>\n",
              "      <th>6</th>\n",
              "      <td>2004-08-27</td>\n",
              "      <td>52.876804</td>\n",
              "      <td>6241200</td>\n",
              "      <td>8</td>\n",
              "      <td>1.459530</td>\n",
              "      <td>0.971360</td>\n",
              "      <td>6</td>\n",
              "      <td>53.753517</td>\n",
              "      <td>1.638859</td>\n",
              "      <td>-1.474472</td>\n",
              "      <td>7128600.0</td>\n",
              "      <td>52.802086</td>\n",
              "      <td>2.052307</td>\n",
              "      <td>-0.518059</td>\n",
              "      <td>9232100.0</td>\n",
              "      <td>52.239193</td>\n",
              "      <td>4.000008</td>\n",
              "      <td>3.173107</td>\n",
              "      <td>15319700.0</td>\n",
              "    </tr>\n",
              "    <tr>\n",
              "      <th>7</th>\n",
              "      <td>2004-08-30</td>\n",
              "      <td>50.814533</td>\n",
              "      <td>5221400</td>\n",
              "      <td>8</td>\n",
              "      <td>1.733505</td>\n",
              "      <td>1.628895</td>\n",
              "      <td>7</td>\n",
              "      <td>52.876804</td>\n",
              "      <td>1.459530</td>\n",
              "      <td>0.971360</td>\n",
              "      <td>6241200.0</td>\n",
              "      <td>53.753517</td>\n",
              "      <td>1.638859</td>\n",
              "      <td>-1.474472</td>\n",
              "      <td>7128600.0</td>\n",
              "      <td>52.802086</td>\n",
              "      <td>2.052307</td>\n",
              "      <td>-0.518059</td>\n",
              "      <td>9232100.0</td>\n",
              "    </tr>\n",
              "  </tbody>\n",
              "</table>\n",
              "</div>"
            ],
            "text/plain": [
              "        date  adj_close    volume  ...  range_hl_lag_3  range_oc_lag_3  volume_lag_3\n",
              "3 2004-08-24  52.239193  15319700  ...        4.034878       -0.169369    44871300.0\n",
              "4 2004-08-25  52.802086   9232100  ...        4.273979       -3.636368    22942800.0\n",
              "5 2004-08-26  53.753517   7128600  ...        2.206730        0.672482    18342800.0\n",
              "6 2004-08-27  52.876804   6241200  ...        4.000008        3.173107    15319700.0\n",
              "7 2004-08-30  50.814533   5221400  ...        2.052307       -0.518059     9232100.0\n",
              "\n",
              "[5 rows x 19 columns]"
            ]
          },
          "metadata": {
            "tags": []
          },
          "execution_count": 7
        }
      ]
    },
    {
      "cell_type": "code",
      "metadata": {
        "id": "VApcS69bH0uS",
        "colab_type": "code",
        "colab": {
          "base_uri": "https://localhost:8080/",
          "height": 255
        },
        "outputId": "9ca95298-1caf-498b-ac7f-ea57d4537f10"
      },
      "source": [
        "df.info()"
      ],
      "execution_count": 34,
      "outputs": [
        {
          "output_type": "stream",
          "text": [
            "<class 'pandas.core.frame.DataFrame'>\n",
            "Int64Index: 3809 entries, 0 to 3808\n",
            "Data columns (total 7 columns):\n",
            " #   Column     Non-Null Count  Dtype         \n",
            "---  ------     --------------  -----         \n",
            " 0   date       3809 non-null   datetime64[ns]\n",
            " 1   adj_close  3809 non-null   float64       \n",
            " 2   volume     3809 non-null   int64         \n",
            " 3   month      3809 non-null   int64         \n",
            " 4   range_hl   3809 non-null   float64       \n",
            " 5   range_oc   3809 non-null   float64       \n",
            " 6   order_day  3809 non-null   int64         \n",
            "dtypes: datetime64[ns](1), float64(3), int64(3)\n",
            "memory usage: 238.1 KB\n"
          ],
          "name": "stdout"
        }
      ]
    },
    {
      "cell_type": "code",
      "metadata": {
        "id": "9v-ka1ZaH0dI",
        "colab_type": "code",
        "colab": {
          "base_uri": "https://localhost:8080/",
          "height": 309
        },
        "outputId": "d3d99357-dd34-480c-c95b-b106345b132f"
      },
      "source": [
        "cols_list = [\n",
        "\"adj_close\",\n",
        "\"range_hl\",\n",
        "\"range_oc\",\n",
        "\"volume\"\n",
        "]\n",
        "\n",
        "for col in cols_list:\n",
        "    df = get_mov_avg_std(df, col, N)\n",
        "df.head()"
      ],
      "execution_count": 35,
      "outputs": [
        {
          "output_type": "execute_result",
          "data": {
            "text/html": [
              "<div>\n",
              "<style scoped>\n",
              "    .dataframe tbody tr th:only-of-type {\n",
              "        vertical-align: middle;\n",
              "    }\n",
              "\n",
              "    .dataframe tbody tr th {\n",
              "        vertical-align: top;\n",
              "    }\n",
              "\n",
              "    .dataframe thead th {\n",
              "        text-align: right;\n",
              "    }\n",
              "</style>\n",
              "<table border=\"1\" class=\"dataframe\">\n",
              "  <thead>\n",
              "    <tr style=\"text-align: right;\">\n",
              "      <th></th>\n",
              "      <th>date</th>\n",
              "      <th>adj_close</th>\n",
              "      <th>volume</th>\n",
              "      <th>month</th>\n",
              "      <th>range_hl</th>\n",
              "      <th>range_oc</th>\n",
              "      <th>order_day</th>\n",
              "      <th>adj_close_mean</th>\n",
              "      <th>adj_close_std</th>\n",
              "      <th>range_hl_mean</th>\n",
              "      <th>range_hl_std</th>\n",
              "      <th>range_oc_mean</th>\n",
              "      <th>range_oc_std</th>\n",
              "      <th>volume_mean</th>\n",
              "      <th>volume_std</th>\n",
              "    </tr>\n",
              "  </thead>\n",
              "  <tbody>\n",
              "    <tr>\n",
              "      <th>0</th>\n",
              "      <td>2004-08-19</td>\n",
              "      <td>49.982655</td>\n",
              "      <td>44871300</td>\n",
              "      <td>8</td>\n",
              "      <td>4.034878</td>\n",
              "      <td>-0.169369</td>\n",
              "      <td>0</td>\n",
              "      <td>NaN</td>\n",
              "      <td>NaN</td>\n",
              "      <td>NaN</td>\n",
              "      <td>NaN</td>\n",
              "      <td>NaN</td>\n",
              "      <td>NaN</td>\n",
              "      <td>NaN</td>\n",
              "      <td>NaN</td>\n",
              "    </tr>\n",
              "    <tr>\n",
              "      <th>1</th>\n",
              "      <td>2004-08-20</td>\n",
              "      <td>53.952770</td>\n",
              "      <td>22942800</td>\n",
              "      <td>8</td>\n",
              "      <td>4.273979</td>\n",
              "      <td>-3.636368</td>\n",
              "      <td>1</td>\n",
              "      <td>49.982655</td>\n",
              "      <td>NaN</td>\n",
              "      <td>4.034878</td>\n",
              "      <td>NaN</td>\n",
              "      <td>-0.169369</td>\n",
              "      <td>NaN</td>\n",
              "      <td>4.487130e+07</td>\n",
              "      <td>NaN</td>\n",
              "    </tr>\n",
              "    <tr>\n",
              "      <th>2</th>\n",
              "      <td>2004-08-23</td>\n",
              "      <td>54.495735</td>\n",
              "      <td>18342800</td>\n",
              "      <td>8</td>\n",
              "      <td>2.206730</td>\n",
              "      <td>0.672482</td>\n",
              "      <td>2</td>\n",
              "      <td>51.967712</td>\n",
              "      <td>2.807295</td>\n",
              "      <td>4.154428</td>\n",
              "      <td>0.169070</td>\n",
              "      <td>-1.902868</td>\n",
              "      <td>2.451539</td>\n",
              "      <td>3.390705e+07</td>\n",
              "      <td>1.550579e+07</td>\n",
              "    </tr>\n",
              "    <tr>\n",
              "      <th>3</th>\n",
              "      <td>2004-08-24</td>\n",
              "      <td>52.239193</td>\n",
              "      <td>15319700</td>\n",
              "      <td>8</td>\n",
              "      <td>4.000008</td>\n",
              "      <td>3.173107</td>\n",
              "      <td>3</td>\n",
              "      <td>52.810387</td>\n",
              "      <td>2.463890</td>\n",
              "      <td>3.505196</td>\n",
              "      <td>1.130841</td>\n",
              "      <td>-1.044418</td>\n",
              "      <td>2.283819</td>\n",
              "      <td>2.871897e+07</td>\n",
              "      <td>1.417616e+07</td>\n",
              "    </tr>\n",
              "    <tr>\n",
              "      <th>4</th>\n",
              "      <td>2004-08-25</td>\n",
              "      <td>52.802086</td>\n",
              "      <td>9232100</td>\n",
              "      <td>8</td>\n",
              "      <td>2.052307</td>\n",
              "      <td>-0.518059</td>\n",
              "      <td>4</td>\n",
              "      <td>53.562566</td>\n",
              "      <td>1.177790</td>\n",
              "      <td>3.493572</td>\n",
              "      <td>1.122826</td>\n",
              "      <td>0.069740</td>\n",
              "      <td>3.444519</td>\n",
              "      <td>1.886843e+07</td>\n",
              "      <td>3.838637e+06</td>\n",
              "    </tr>\n",
              "  </tbody>\n",
              "</table>\n",
              "</div>"
            ],
            "text/plain": [
              "        date  adj_close    volume  ...  range_oc_std   volume_mean    volume_std\n",
              "0 2004-08-19  49.982655  44871300  ...           NaN           NaN           NaN\n",
              "1 2004-08-20  53.952770  22942800  ...           NaN  4.487130e+07           NaN\n",
              "2 2004-08-23  54.495735  18342800  ...      2.451539  3.390705e+07  1.550579e+07\n",
              "3 2004-08-24  52.239193  15319700  ...      2.283819  2.871897e+07  1.417616e+07\n",
              "4 2004-08-25  52.802086   9232100  ...      3.444519  1.886843e+07  3.838637e+06\n",
              "\n",
              "[5 rows x 15 columns]"
            ]
          },
          "metadata": {
            "tags": []
          },
          "execution_count": 35
        }
      ]
    },
    {
      "cell_type": "code",
      "metadata": {
        "id": "GVyg91HeINj-",
        "colab_type": "code",
        "colab": {
          "base_uri": "https://localhost:8080/",
          "height": 136
        },
        "outputId": "349c1693-1392-4563-e2e7-22433f855f4d"
      },
      "source": [
        "# Get sizes of each of the datasets\n",
        "num_cv = int(cv_size*len(df))\n",
        "num_test = int(test_size*len(df))\n",
        "num_train = len(df) - num_cv - num_test\n",
        "print(\"num_train = \" + str(num_train))\n",
        "print(\"num_cv = \" + str(num_cv))\n",
        "print(\"num_test = \" + str(num_test))\n",
        "\n",
        "# Split into train, cv, and test\n",
        "train = df[:num_train]\n",
        "cv = df[num_train:num_train+num_cv]\n",
        "train_cv = df[:num_train+num_cv]\n",
        "test = df[num_train+num_cv:]\n",
        "print(\"train.shape = \" + str(train.shape))\n",
        "print(\"cv.shape = \" + str(cv.shape))\n",
        "print(\"train_cv.shape = \" + str(train_cv.shape))\n",
        "print(\"test.shape = \" + str(test.shape))"
      ],
      "execution_count": 36,
      "outputs": [
        {
          "output_type": "stream",
          "text": [
            "num_train = 2287\n",
            "num_cv = 761\n",
            "num_test = 761\n",
            "train.shape = (2287, 15)\n",
            "cv.shape = (761, 15)\n",
            "train_cv.shape = (3048, 15)\n",
            "test.shape = (761, 15)\n"
          ],
          "name": "stdout"
        }
      ]
    },
    {
      "cell_type": "code",
      "metadata": {
        "id": "1DkWek-jINXd",
        "colab_type": "code",
        "colab": {
          "base_uri": "https://localhost:8080/",
          "height": 479
        },
        "outputId": "6ef2dc2a-cb98-4993-f1d4-42be6bfd5fb4"
      },
      "source": [
        "cols_to_scale = [\n",
        "\"adj_close\"\n",
        "]\n",
        "\n",
        "for i in range(1,N+1):\n",
        "    cols_to_scale.append(\"adj_close_lag_\"+str(i))\n",
        "    cols_to_scale.append(\"range_hl_lag_\"+str(i))\n",
        "    cols_to_scale.append(\"range_oc_lag_\"+str(i))\n",
        "    cols_to_scale.append(\"volume_lag_\"+str(i))\n",
        "\n",
        "# Do scaling for train set\n",
        "# Here we only scale the train dataset, and not the entire dataset to prevent information leak\n",
        "scaler = StandardScaler()\n",
        "train_scaled = scaler.fit_transform(train[cols_to_scale])\n",
        "print(\"scaler.mean_ = \" + str(scaler.mean_))\n",
        "print(\"scaler.var_ = \" + str(scaler.var_))\n",
        "print(\"train_scaled.shape = \" + str(train_scaled.shape))\n",
        "\n",
        "# Convert the numpy array back into pandas dataframe\n",
        "train_scaled = pd.DataFrame(train_scaled, columns=cols_to_scale)\n",
        "train_scaled[['date', 'month']] = train.reset_index()[['date', 'month']]\n",
        "print(\"train_scaled.shape = \" + str(train_scaled.shape))\n",
        "train_scaled.head()"
      ],
      "execution_count": 11,
      "outputs": [
        {
          "output_type": "stream",
          "text": [
            "scaler.mean_ = [2.48765523e+02 2.48592372e+02 5.37617982e+00 1.11901259e-01\n",
            " 1.06486160e+07 2.48422736e+02 5.37643936e+00 1.10025624e-01\n",
            " 1.06575541e+07 2.48251003e+02 5.37556043e+00 1.08110728e-01\n",
            " 1.06760254e+07]\n",
            "scaler.var_ = [7.03271118e+03 7.03147986e+03 9.85979779e+00 1.37503724e+01\n",
            " 7.75374205e+13 7.03176176e+03 9.85907173e+00 1.37563945e+01\n",
            " 7.75746461e+13 7.03252918e+03 9.85966480e+00 1.37490858e+01\n",
            " 7.80589745e+13]\n",
            "train_scaled.shape = (2284, 13)\n",
            "train_scaled.shape = (2284, 15)\n"
          ],
          "name": "stdout"
        },
        {
          "output_type": "execute_result",
          "data": {
            "text/html": [
              "<div>\n",
              "<style scoped>\n",
              "    .dataframe tbody tr th:only-of-type {\n",
              "        vertical-align: middle;\n",
              "    }\n",
              "\n",
              "    .dataframe tbody tr th {\n",
              "        vertical-align: top;\n",
              "    }\n",
              "\n",
              "    .dataframe thead th {\n",
              "        text-align: right;\n",
              "    }\n",
              "</style>\n",
              "<table border=\"1\" class=\"dataframe\">\n",
              "  <thead>\n",
              "    <tr style=\"text-align: right;\">\n",
              "      <th></th>\n",
              "      <th>adj_close</th>\n",
              "      <th>adj_close_lag_1</th>\n",
              "      <th>range_hl_lag_1</th>\n",
              "      <th>range_oc_lag_1</th>\n",
              "      <th>volume_lag_1</th>\n",
              "      <th>adj_close_lag_2</th>\n",
              "      <th>range_hl_lag_2</th>\n",
              "      <th>range_oc_lag_2</th>\n",
              "      <th>volume_lag_2</th>\n",
              "      <th>adj_close_lag_3</th>\n",
              "      <th>range_hl_lag_3</th>\n",
              "      <th>range_oc_lag_3</th>\n",
              "      <th>volume_lag_3</th>\n",
              "      <th>date</th>\n",
              "      <th>month</th>\n",
              "    </tr>\n",
              "  </thead>\n",
              "  <tbody>\n",
              "    <tr>\n",
              "      <th>0</th>\n",
              "      <td>-2.343470</td>\n",
              "      <td>-2.314700</td>\n",
              "      <td>-1.009369</td>\n",
              "      <td>0.151175</td>\n",
              "      <td>0.873790</td>\n",
              "      <td>-2.319105</td>\n",
              "      <td>-0.351111</td>\n",
              "      <td>-1.010092</td>\n",
              "      <td>1.394839</td>\n",
              "      <td>-2.364273</td>\n",
              "      <td>-0.426968</td>\n",
              "      <td>-0.074833</td>\n",
              "      <td>3.870390</td>\n",
              "      <td>2004-08-24</td>\n",
              "      <td>8</td>\n",
              "    </tr>\n",
              "    <tr>\n",
              "      <th>1</th>\n",
              "      <td>-2.336758</td>\n",
              "      <td>-2.341610</td>\n",
              "      <td>-0.438267</td>\n",
              "      <td>0.825535</td>\n",
              "      <td>0.530471</td>\n",
              "      <td>-2.312630</td>\n",
              "      <td>-1.009489</td>\n",
              "      <td>0.151648</td>\n",
              "      <td>0.872565</td>\n",
              "      <td>-2.316931</td>\n",
              "      <td>-0.350821</td>\n",
              "      <td>-1.009844</td>\n",
              "      <td>1.388414</td>\n",
              "      <td>2004-08-25</td>\n",
              "      <td>8</td>\n",
              "    </tr>\n",
              "    <tr>\n",
              "      <th>2</th>\n",
              "      <td>-2.325412</td>\n",
              "      <td>-2.334897</td>\n",
              "      <td>-1.058548</td>\n",
              "      <td>-0.169885</td>\n",
              "      <td>-0.160867</td>\n",
              "      <td>-2.339540</td>\n",
              "      <td>-0.438366</td>\n",
              "      <td>0.825860</td>\n",
              "      <td>0.529329</td>\n",
              "      <td>-2.310456</td>\n",
              "      <td>-1.009178</td>\n",
              "      <td>0.152205</td>\n",
              "      <td>0.867763</td>\n",
              "      <td>2004-08-26</td>\n",
              "      <td>8</td>\n",
              "    </tr>\n",
              "    <tr>\n",
              "      <th>3</th>\n",
              "      <td>-2.335867</td>\n",
              "      <td>-2.323551</td>\n",
              "      <td>-1.190218</td>\n",
              "      <td>-0.427807</td>\n",
              "      <td>-0.399750</td>\n",
              "      <td>-2.332827</td>\n",
              "      <td>-1.058669</td>\n",
              "      <td>-0.169342</td>\n",
              "      <td>-0.161843</td>\n",
              "      <td>-2.337365</td>\n",
              "      <td>-0.438073</td>\n",
              "      <td>0.826596</td>\n",
              "      <td>0.525594</td>\n",
              "      <td>2004-08-27</td>\n",
              "      <td>8</td>\n",
              "    </tr>\n",
              "    <tr>\n",
              "      <th>4</th>\n",
              "      <td>-2.360458</td>\n",
              "      <td>-2.334006</td>\n",
              "      <td>-1.247328</td>\n",
              "      <td>0.231776</td>\n",
              "      <td>-0.500528</td>\n",
              "      <td>-2.321481</td>\n",
              "      <td>-1.190344</td>\n",
              "      <td>-0.427208</td>\n",
              "      <td>-0.400669</td>\n",
              "      <td>-2.330652</td>\n",
              "      <td>-1.058357</td>\n",
              "      <td>-0.168871</td>\n",
              "      <td>-0.163431</td>\n",
              "      <td>2004-08-30</td>\n",
              "      <td>8</td>\n",
              "    </tr>\n",
              "  </tbody>\n",
              "</table>\n",
              "</div>"
            ],
            "text/plain": [
              "   adj_close  adj_close_lag_1  range_hl_lag_1  ...  volume_lag_3       date  month\n",
              "0  -2.343470        -2.314700       -1.009369  ...      3.870390 2004-08-24      8\n",
              "1  -2.336758        -2.341610       -0.438267  ...      1.388414 2004-08-25      8\n",
              "2  -2.325412        -2.334897       -1.058548  ...      0.867763 2004-08-26      8\n",
              "3  -2.335867        -2.323551       -1.190218  ...      0.525594 2004-08-27      8\n",
              "4  -2.360458        -2.334006       -1.247328  ...     -0.163431 2004-08-30      8\n",
              "\n",
              "[5 rows x 15 columns]"
            ]
          },
          "metadata": {
            "tags": []
          },
          "execution_count": 11
        }
      ]
    },
    {
      "cell_type": "code",
      "metadata": {
        "id": "z8Am-frUJLQO",
        "colab_type": "code",
        "colab": {
          "base_uri": "https://localhost:8080/",
          "height": 479
        },
        "outputId": "9ee5b4e0-5a3f-42a9-b634-e177fc61a55a"
      },
      "source": [
        "# Do scaling for train+dev set\n",
        "scaler_train_cv = StandardScaler()\n",
        "train_cv_scaled = scaler_train_cv.fit_transform(train_cv[cols_to_scale])\n",
        "print(\"scaler_train_cv.mean_ = \" + str(scaler_train_cv.mean_))\n",
        "print(\"scaler_train_cv.var_ = \" + str(scaler_train_cv.var_))\n",
        "print(\"train_cv_scaled.shape = \" + str(train_cv_scaled.shape))\n",
        "\n",
        "# Convert the numpy array back into pandas dataframe\n",
        "train_cv_scaled = pd.DataFrame(train_cv_scaled, columns=cols_to_scale)\n",
        "train_cv_scaled[['date', 'month']] = train_cv.reset_index()[['date', 'month']]\n",
        "print(\"train_cv_scaled.shape = \" + str(train_cv_scaled.shape))\n",
        "train_cv_scaled.head()"
      ],
      "execution_count": 14,
      "outputs": [
        {
          "output_type": "stream",
          "text": [
            "scaler_train_cv.mean_ = [3.38920046e+02 3.38683686e+02 6.62386983e+00 1.41105179e-01\n",
            " 8.56542089e+06 3.38442981e+02 6.62370366e+00 1.40012775e-01\n",
            " 8.57249179e+06 3.38200870e+02 6.62128163e+00 1.42324976e-01\n",
            " 8.58673977e+06]\n",
            "scaler_train_cv.var_ = [3.17613186e+04 3.17256043e+04 2.03967726e+01 2.30584386e+01\n",
            " 7.17954689e+13 3.16861945e+04 2.03974695e+01 2.30630568e+01\n",
            " 7.18464982e+13 3.16473239e+04 2.03921413e+01 2.30453413e+01\n",
            " 7.22625145e+13]\n",
            "train_cv_scaled.shape = (3045, 13)\n",
            "train_cv_scaled.shape = (3045, 15)\n"
          ],
          "name": "stdout"
        },
        {
          "output_type": "execute_result",
          "data": {
            "text/html": [
              "<div>\n",
              "<style scoped>\n",
              "    .dataframe tbody tr th:only-of-type {\n",
              "        vertical-align: middle;\n",
              "    }\n",
              "\n",
              "    .dataframe tbody tr th {\n",
              "        vertical-align: top;\n",
              "    }\n",
              "\n",
              "    .dataframe thead th {\n",
              "        text-align: right;\n",
              "    }\n",
              "</style>\n",
              "<table border=\"1\" class=\"dataframe\">\n",
              "  <thead>\n",
              "    <tr style=\"text-align: right;\">\n",
              "      <th></th>\n",
              "      <th>adj_close</th>\n",
              "      <th>adj_close_lag_1</th>\n",
              "      <th>range_hl_lag_1</th>\n",
              "      <th>range_oc_lag_1</th>\n",
              "      <th>volume_lag_1</th>\n",
              "      <th>adj_close_lag_2</th>\n",
              "      <th>range_hl_lag_2</th>\n",
              "      <th>range_oc_lag_2</th>\n",
              "      <th>volume_lag_2</th>\n",
              "      <th>adj_close_lag_3</th>\n",
              "      <th>range_hl_lag_3</th>\n",
              "      <th>range_oc_lag_3</th>\n",
              "      <th>volume_lag_3</th>\n",
              "      <th>date</th>\n",
              "      <th>month</th>\n",
              "    </tr>\n",
              "  </thead>\n",
              "  <tbody>\n",
              "    <tr>\n",
              "      <th>0</th>\n",
              "      <td>-1.608605</td>\n",
              "      <td>-1.595514</td>\n",
              "      <td>-0.978049</td>\n",
              "      <td>0.110659</td>\n",
              "      <td>1.153915</td>\n",
              "      <td>-1.598204</td>\n",
              "      <td>-0.520270</td>\n",
              "      <td>-0.786353</td>\n",
              "      <td>1.695365</td>\n",
              "      <td>-1.620141</td>\n",
              "      <td>-0.572750</td>\n",
              "      <td>-0.064929</td>\n",
              "      <td>4.268402</td>\n",
              "      <td>2004-08-24</td>\n",
              "      <td>8</td>\n",
              "    </tr>\n",
              "    <tr>\n",
              "      <th>1</th>\n",
              "      <td>-1.605447</td>\n",
              "      <td>-1.608183</td>\n",
              "      <td>-0.580979</td>\n",
              "      <td>0.631414</td>\n",
              "      <td>0.797132</td>\n",
              "      <td>-1.595154</td>\n",
              "      <td>-0.977995</td>\n",
              "      <td>0.110876</td>\n",
              "      <td>1.152671</td>\n",
              "      <td>-1.597824</td>\n",
              "      <td>-0.519802</td>\n",
              "      <td>-0.787136</td>\n",
              "      <td>1.688802</td>\n",
              "      <td>2004-08-25</td>\n",
              "      <td>8</td>\n",
              "    </tr>\n",
              "    <tr>\n",
              "      <th>2</th>\n",
              "      <td>-1.600108</td>\n",
              "      <td>-1.605023</td>\n",
              "      <td>-1.012241</td>\n",
              "      <td>-0.137271</td>\n",
              "      <td>0.078681</td>\n",
              "      <td>-1.607831</td>\n",
              "      <td>-0.580932</td>\n",
              "      <td>0.631579</td>\n",
              "      <td>0.796015</td>\n",
              "      <td>-1.594772</td>\n",
              "      <td>-0.977586</td>\n",
              "      <td>0.110437</td>\n",
              "      <td>1.147672</td>\n",
              "      <td>2004-08-26</td>\n",
              "      <td>8</td>\n",
              "    </tr>\n",
              "    <tr>\n",
              "      <th>3</th>\n",
              "      <td>-1.605027</td>\n",
              "      <td>-1.599681</td>\n",
              "      <td>-1.103787</td>\n",
              "      <td>-0.336444</td>\n",
              "      <td>-0.169572</td>\n",
              "      <td>-1.604669</td>\n",
              "      <td>-1.012187</td>\n",
              "      <td>-0.137030</td>\n",
              "      <td>0.077819</td>\n",
              "      <td>-1.607457</td>\n",
              "      <td>-0.580472</td>\n",
              "      <td>0.631340</td>\n",
              "      <td>0.792044</td>\n",
              "      <td>2004-08-27</td>\n",
              "      <td>8</td>\n",
              "    </tr>\n",
              "    <tr>\n",
              "      <th>4</th>\n",
              "      <td>-1.616599</td>\n",
              "      <td>-1.604603</td>\n",
              "      <td>-1.143495</td>\n",
              "      <td>0.172901</td>\n",
              "      <td>-0.274302</td>\n",
              "      <td>-1.599324</td>\n",
              "      <td>-1.103732</td>\n",
              "      <td>-0.336183</td>\n",
              "      <td>-0.170346</td>\n",
              "      <td>-1.604293</td>\n",
              "      <td>-1.011783</td>\n",
              "      <td>-0.137564</td>\n",
              "      <td>0.075918</td>\n",
              "      <td>2004-08-30</td>\n",
              "      <td>8</td>\n",
              "    </tr>\n",
              "  </tbody>\n",
              "</table>\n",
              "</div>"
            ],
            "text/plain": [
              "   adj_close  adj_close_lag_1  range_hl_lag_1  ...  volume_lag_3       date  month\n",
              "0  -1.608605        -1.595514       -0.978049  ...      4.268402 2004-08-24      8\n",
              "1  -1.605447        -1.608183       -0.580979  ...      1.688802 2004-08-25      8\n",
              "2  -1.600108        -1.605023       -1.012241  ...      1.147672 2004-08-26      8\n",
              "3  -1.605027        -1.599681       -1.103787  ...      0.792044 2004-08-27      8\n",
              "4  -1.616599        -1.604603       -1.143495  ...      0.075918 2004-08-30      8\n",
              "\n",
              "[5 rows x 15 columns]"
            ]
          },
          "metadata": {
            "tags": []
          },
          "execution_count": 14
        }
      ]
    },
    {
      "cell_type": "code",
      "metadata": {
        "id": "ULxwtIcXJLD0",
        "colab_type": "code",
        "colab": {
          "base_uri": "https://localhost:8080/",
          "height": 409,
          "referenced_widgets": [
            "6268eb632b574301a103e5d33fd40392",
            "d39e2a6f5b5d46729065c27ed2c93c4b",
            "ec4a5c1f2dc049d69abb88ced7eb7d55",
            "99e75eae64ab46fb995954eb852b190f",
            "e94a9355db5d44c0b7e45757cefc0598",
            "15474e1499da401a998a28b788706644",
            "d082caace4ce460985c3c502ee0bde31",
            "a1281589e67741bd90ca4158f8735883"
          ]
        },
        "outputId": "59f0ea04-cd47-4571-c118-62f4608a893c"
      },
      "source": [
        "\n",
        "# Do scaling for dev set\n",
        "cv_scaled = cv[['date']]\n",
        "for col in tqdm_notebook(cols_list):\n",
        "    feat_list = [col + '_lag_' + str(shift) for shift in range(1, N+1)]\n",
        "    temp = cv.apply(lambda row: scale_row(row[feat_list], row[col+'_mean'], row[col+'_std']), axis=1)\n",
        "    cv_scaled = pd.concat([cv_scaled, temp], axis=1)\n",
        "    \n",
        "# Now the entire dev set is scaled\n",
        "cv_scaled.head()"
      ],
      "execution_count": 15,
      "outputs": [
        {
          "output_type": "stream",
          "text": [
            "/usr/local/lib/python3.6/dist-packages/ipykernel_launcher.py:2: TqdmDeprecationWarning: This function will be removed in tqdm==5.0.0\n",
            "Please use `tqdm.notebook.tqdm` instead of `tqdm.tqdm_notebook`\n",
            "  \n"
          ],
          "name": "stderr"
        },
        {
          "output_type": "display_data",
          "data": {
            "application/vnd.jupyter.widget-view+json": {
              "model_id": "6268eb632b574301a103e5d33fd40392",
              "version_minor": 0,
              "version_major": 2
            },
            "text/plain": [
              "HBox(children=(IntProgress(value=0, max=4), HTML(value='')))"
            ]
          },
          "metadata": {
            "tags": []
          }
        },
        {
          "output_type": "stream",
          "text": [
            "\n"
          ],
          "name": "stdout"
        },
        {
          "output_type": "execute_result",
          "data": {
            "text/html": [
              "<div>\n",
              "<style scoped>\n",
              "    .dataframe tbody tr th:only-of-type {\n",
              "        vertical-align: middle;\n",
              "    }\n",
              "\n",
              "    .dataframe tbody tr th {\n",
              "        vertical-align: top;\n",
              "    }\n",
              "\n",
              "    .dataframe thead th {\n",
              "        text-align: right;\n",
              "    }\n",
              "</style>\n",
              "<table border=\"1\" class=\"dataframe\">\n",
              "  <thead>\n",
              "    <tr style=\"text-align: right;\">\n",
              "      <th></th>\n",
              "      <th>date</th>\n",
              "      <th>adj_close_lag_1</th>\n",
              "      <th>adj_close_lag_2</th>\n",
              "      <th>adj_close_lag_3</th>\n",
              "      <th>range_hl_lag_1</th>\n",
              "      <th>range_hl_lag_2</th>\n",
              "      <th>range_hl_lag_3</th>\n",
              "      <th>range_oc_lag_1</th>\n",
              "      <th>range_oc_lag_2</th>\n",
              "      <th>range_oc_lag_3</th>\n",
              "      <th>volume_lag_1</th>\n",
              "      <th>volume_lag_2</th>\n",
              "      <th>volume_lag_3</th>\n",
              "    </tr>\n",
              "  </thead>\n",
              "  <tbody>\n",
              "    <tr>\n",
              "      <th>2287</th>\n",
              "      <td>2013-09-19</td>\n",
              "      <td>1.150334</td>\n",
              "      <td>-0.662049</td>\n",
              "      <td>-0.488285</td>\n",
              "      <td>1.083480</td>\n",
              "      <td>-0.887504</td>\n",
              "      <td>-0.195977</td>\n",
              "      <td>-1.111029</td>\n",
              "      <td>0.283099</td>\n",
              "      <td>0.827931</td>\n",
              "      <td>1.148410</td>\n",
              "      <td>-0.678445</td>\n",
              "      <td>-0.469965</td>\n",
              "    </tr>\n",
              "    <tr>\n",
              "      <th>2288</th>\n",
              "      <td>2013-09-20</td>\n",
              "      <td>0.276441</td>\n",
              "      <td>0.832699</td>\n",
              "      <td>-1.109140</td>\n",
              "      <td>-0.335693</td>\n",
              "      <td>1.124655</td>\n",
              "      <td>-0.788962</td>\n",
              "      <td>0.806317</td>\n",
              "      <td>-1.118973</td>\n",
              "      <td>0.312656</td>\n",
              "      <td>0.001574</td>\n",
              "      <td>0.999212</td>\n",
              "      <td>-1.000786</td>\n",
              "    </tr>\n",
              "    <tr>\n",
              "      <th>2289</th>\n",
              "      <td>2013-09-23</td>\n",
              "      <td>0.539272</td>\n",
              "      <td>-1.153881</td>\n",
              "      <td>0.614609</td>\n",
              "      <td>-0.726958</td>\n",
              "      <td>-0.413470</td>\n",
              "      <td>1.140428</td>\n",
              "      <td>-0.001897</td>\n",
              "      <td>1.000947</td>\n",
              "      <td>-0.999050</td>\n",
              "      <td>1.147384</td>\n",
              "      <td>-0.686086</td>\n",
              "      <td>-0.461298</td>\n",
              "    </tr>\n",
              "    <tr>\n",
              "      <th>2290</th>\n",
              "      <td>2013-09-24</td>\n",
              "      <td>-1.109939</td>\n",
              "      <td>0.830699</td>\n",
              "      <td>0.279240</td>\n",
              "      <td>1.116629</td>\n",
              "      <td>-0.812982</td>\n",
              "      <td>-0.303647</td>\n",
              "      <td>0.704183</td>\n",
              "      <td>-1.144616</td>\n",
              "      <td>0.440433</td>\n",
              "      <td>-0.517963</td>\n",
              "      <td>1.152730</td>\n",
              "      <td>-0.634766</td>\n",
              "    </tr>\n",
              "    <tr>\n",
              "      <th>2291</th>\n",
              "      <td>2013-09-25</td>\n",
              "      <td>-0.559349</td>\n",
              "      <td>-0.595166</td>\n",
              "      <td>1.154515</td>\n",
              "      <td>-0.556099</td>\n",
              "      <td>1.154443</td>\n",
              "      <td>-0.598344</td>\n",
              "      <td>-0.253899</td>\n",
              "      <td>1.102476</td>\n",
              "      <td>-0.848577</td>\n",
              "      <td>-0.667246</td>\n",
              "      <td>-0.482518</td>\n",
              "      <td>1.149765</td>\n",
              "    </tr>\n",
              "  </tbody>\n",
              "</table>\n",
              "</div>"
            ],
            "text/plain": [
              "           date  adj_close_lag_1  ...  volume_lag_2  volume_lag_3\n",
              "2287 2013-09-19         1.150334  ...     -0.678445     -0.469965\n",
              "2288 2013-09-20         0.276441  ...      0.999212     -1.000786\n",
              "2289 2013-09-23         0.539272  ...     -0.686086     -0.461298\n",
              "2290 2013-09-24        -1.109939  ...      1.152730     -0.634766\n",
              "2291 2013-09-25        -0.559349  ...     -0.482518      1.149765\n",
              "\n",
              "[5 rows x 13 columns]"
            ]
          },
          "metadata": {
            "tags": []
          },
          "execution_count": 15
        }
      ]
    },
    {
      "cell_type": "code",
      "metadata": {
        "id": "jIhZc8hLJcXV",
        "colab_type": "code",
        "colab": {
          "base_uri": "https://localhost:8080/",
          "height": 409,
          "referenced_widgets": [
            "e54aa8e4aa3b43949c61b8fd98209001",
            "2c777ecff56e4e24beccc949bf6cabc2",
            "77e6701fea334b65ba7b7df1503a38e8",
            "0293227bcf7f46789a061e761f35002f",
            "9296ebdacd10412b905bf4f60c62ce6e",
            "0efbd42827804f408e484da77ee695e2",
            "7bdcf098bb9744709c6badd974486079",
            "7cd4c46dee4342fe8e5b7cbe20d45b3b"
          ]
        },
        "outputId": "ee5392da-6673-4830-e3cf-af6c5a96a2e9"
      },
      "source": [
        "# Do scaling for test set\n",
        "test_scaled = test[['date']]\n",
        "for col in tqdm_notebook(cols_list):\n",
        "    feat_list = [col + '_lag_' + str(shift) for shift in range(1, N+1)]\n",
        "    temp = test.apply(lambda row: scale_row(row[feat_list], row[col+'_mean'], row[col+'_std']), axis=1)\n",
        "    test_scaled = pd.concat([test_scaled, temp], axis=1)\n",
        "    \n",
        "# Now the entire test set is scaled\n",
        "test_scaled.head()"
      ],
      "execution_count": 16,
      "outputs": [
        {
          "output_type": "stream",
          "text": [
            "/usr/local/lib/python3.6/dist-packages/ipykernel_launcher.py:2: TqdmDeprecationWarning: This function will be removed in tqdm==5.0.0\n",
            "Please use `tqdm.notebook.tqdm` instead of `tqdm.tqdm_notebook`\n",
            "  \n"
          ],
          "name": "stderr"
        },
        {
          "output_type": "display_data",
          "data": {
            "application/vnd.jupyter.widget-view+json": {
              "model_id": "e54aa8e4aa3b43949c61b8fd98209001",
              "version_minor": 0,
              "version_major": 2
            },
            "text/plain": [
              "HBox(children=(IntProgress(value=0, max=4), HTML(value='')))"
            ]
          },
          "metadata": {
            "tags": []
          }
        },
        {
          "output_type": "stream",
          "text": [
            "\n"
          ],
          "name": "stdout"
        },
        {
          "output_type": "execute_result",
          "data": {
            "text/html": [
              "<div>\n",
              "<style scoped>\n",
              "    .dataframe tbody tr th:only-of-type {\n",
              "        vertical-align: middle;\n",
              "    }\n",
              "\n",
              "    .dataframe tbody tr th {\n",
              "        vertical-align: top;\n",
              "    }\n",
              "\n",
              "    .dataframe thead th {\n",
              "        text-align: right;\n",
              "    }\n",
              "</style>\n",
              "<table border=\"1\" class=\"dataframe\">\n",
              "  <thead>\n",
              "    <tr style=\"text-align: right;\">\n",
              "      <th></th>\n",
              "      <th>date</th>\n",
              "      <th>adj_close_lag_1</th>\n",
              "      <th>adj_close_lag_2</th>\n",
              "      <th>adj_close_lag_3</th>\n",
              "      <th>range_hl_lag_1</th>\n",
              "      <th>range_hl_lag_2</th>\n",
              "      <th>range_hl_lag_3</th>\n",
              "      <th>range_oc_lag_1</th>\n",
              "      <th>range_oc_lag_2</th>\n",
              "      <th>range_oc_lag_3</th>\n",
              "      <th>volume_lag_1</th>\n",
              "      <th>volume_lag_2</th>\n",
              "      <th>volume_lag_3</th>\n",
              "    </tr>\n",
              "  </thead>\n",
              "  <tbody>\n",
              "    <tr>\n",
              "      <th>3048</th>\n",
              "      <td>2016-09-27</td>\n",
              "      <td>-1.154448</td>\n",
              "      <td>0.556328</td>\n",
              "      <td>0.598120</td>\n",
              "      <td>0.305460</td>\n",
              "      <td>-1.117106</td>\n",
              "      <td>0.811646</td>\n",
              "      <td>1.038457</td>\n",
              "      <td>-0.081959</td>\n",
              "      <td>-0.956498</td>\n",
              "      <td>0.917268</td>\n",
              "      <td>-1.066058</td>\n",
              "      <td>0.148790</td>\n",
              "    </tr>\n",
              "    <tr>\n",
              "      <th>3049</th>\n",
              "      <td>2016-09-28</td>\n",
              "      <td>0.251740</td>\n",
              "      <td>-1.101816</td>\n",
              "      <td>0.850076</td>\n",
              "      <td>0.837092</td>\n",
              "      <td>0.270263</td>\n",
              "      <td>-1.107355</td>\n",
              "      <td>-0.964241</td>\n",
              "      <td>1.032284</td>\n",
              "      <td>-0.068043</td>\n",
              "      <td>-1.096880</td>\n",
              "      <td>0.860914</td>\n",
              "      <td>0.235966</td>\n",
              "    </tr>\n",
              "    <tr>\n",
              "      <th>3050</th>\n",
              "      <td>2016-09-29</td>\n",
              "      <td>0.416829</td>\n",
              "      <td>0.724157</td>\n",
              "      <td>-1.140986</td>\n",
              "      <td>-1.051320</td>\n",
              "      <td>0.939235</td>\n",
              "      <td>0.112085</td>\n",
              "      <td>-0.335644</td>\n",
              "      <td>-0.789000</td>\n",
              "      <td>1.124643</td>\n",
              "      <td>-0.667999</td>\n",
              "      <td>-0.481680</td>\n",
              "      <td>1.149679</td>\n",
              "    </tr>\n",
              "    <tr>\n",
              "      <th>3051</th>\n",
              "      <td>2016-09-30</td>\n",
              "      <td>-1.137874</td>\n",
              "      <td>0.398841</td>\n",
              "      <td>0.739033</td>\n",
              "      <td>0.556597</td>\n",
              "      <td>-1.154455</td>\n",
              "      <td>0.597858</td>\n",
              "      <td>1.113843</td>\n",
              "      <td>-0.293264</td>\n",
              "      <td>-0.820579</td>\n",
              "      <td>1.131140</td>\n",
              "      <td>-0.766545</td>\n",
              "      <td>-0.364595</td>\n",
              "    </tr>\n",
              "    <tr>\n",
              "      <th>3052</th>\n",
              "      <td>2016-10-03</td>\n",
              "      <td>-0.199504</td>\n",
              "      <td>-0.885209</td>\n",
              "      <td>1.084713</td>\n",
              "      <td>-0.575525</td>\n",
              "      <td>1.154699</td>\n",
              "      <td>-0.579173</td>\n",
              "      <td>-0.294936</td>\n",
              "      <td>1.114298</td>\n",
              "      <td>-0.819362</td>\n",
              "      <td>1.042744</td>\n",
              "      <td>-0.091822</td>\n",
              "      <td>-0.950922</td>\n",
              "    </tr>\n",
              "  </tbody>\n",
              "</table>\n",
              "</div>"
            ],
            "text/plain": [
              "           date  adj_close_lag_1  ...  volume_lag_2  volume_lag_3\n",
              "3048 2016-09-27        -1.154448  ...     -1.066058      0.148790\n",
              "3049 2016-09-28         0.251740  ...      0.860914      0.235966\n",
              "3050 2016-09-29         0.416829  ...     -0.481680      1.149679\n",
              "3051 2016-09-30        -1.137874  ...     -0.766545     -0.364595\n",
              "3052 2016-10-03        -0.199504  ...     -0.091822     -0.950922\n",
              "\n",
              "[5 rows x 13 columns]"
            ]
          },
          "metadata": {
            "tags": []
          },
          "execution_count": 16
        }
      ]
    },
    {
      "cell_type": "code",
      "metadata": {
        "id": "04oyr9YXJcLe",
        "colab_type": "code",
        "colab": {
          "base_uri": "https://localhost:8080/",
          "height": 498
        },
        "outputId": "264ad991-b137-4043-f460-71a141744030"
      },
      "source": [
        "# Plot adjusted close over time\n",
        "rcParams['figure.figsize'] = 10, 8 # width 10, height 8\n",
        "\n",
        "ax = train.plot(x='date', y='adj_close', style='b-', grid=True)\n",
        "ax = cv.plot(x='date', y='adj_close', style='y-', grid=True, ax=ax)\n",
        "ax = test.plot(x='date', y='adj_close', style='g-', grid=True, ax=ax)\n",
        "ax.legend(['train', 'dev', 'test'])\n",
        "ax.set_xlabel(\"date\")\n",
        "ax.set_ylabel(\"USD\")\n",
        "ax.set_title(\"Without scaling\")"
      ],
      "execution_count": 18,
      "outputs": [
        {
          "output_type": "execute_result",
          "data": {
            "text/plain": [
              "Text(0.5, 1.0, 'Without scaling')"
            ]
          },
          "metadata": {
            "tags": []
          },
          "execution_count": 18
        },
        {
          "output_type": "display_data",
          "data": {
            "image/png": "[encoded data removed]",
            "text/plain": [
              "<Figure size 720x576 with 1 Axes>"
            ]
          },
          "metadata": {
            "tags": [],
            "needs_background": "light"
          }
        }
      ]
    },
    {
      "cell_type": "code",
      "metadata": {
        "id": "xo_1A3F3INIo",
        "colab_type": "code",
        "colab": {
          "base_uri": "https://localhost:8080/",
          "height": 153
        },
        "outputId": "9c2bf5cb-bf1c-4170-99f4-1c825cc84a04"
      },
      "source": [
        "features = []\n",
        "for i in range(1,N+1):\n",
        "    features.append(\"adj_close_lag_\"+str(i))\n",
        "    features.append(\"range_hl_lag_\"+str(i))\n",
        "    features.append(\"range_oc_lag_\"+str(i))\n",
        "    features.append(\"volume_lag_\"+str(i))\n",
        "\n",
        "target = \"adj_close\"\n",
        "\n",
        "\n",
        "# Split into X and y\n",
        "X_train = train[features]\n",
        "y_train = train[target]\n",
        "X_cv = cv[features]\n",
        "y_cv = cv[target]\n",
        "X_train_cv = train_cv[features]\n",
        "y_train_cv = train_cv[target]\n",
        "X_sample = test[features]\n",
        "y_sample = test[target]\n",
        "print(\"X_train.shape = \" + str(X_train.shape))\n",
        "print(\"y_train.shape = \" + str(y_train.shape))\n",
        "print(\"X_cv.shape = \" + str(X_cv.shape))\n",
        "print(\"y_cv.shape = \" + str(y_cv.shape))\n",
        "print(\"X_train_cv.shape = \" + str(X_train_cv.shape))\n",
        "print(\"y_train_cv.shape = \" + str(y_train_cv.shape))\n",
        "print(\"X_sample.shape = \" + str(X_sample.shape))\n",
        "print(\"y_sample.shape = \" + str(y_sample.shape))"
      ],
      "execution_count": 12,
      "outputs": [
        {
          "output_type": "stream",
          "text": [
            "X_train.shape = (2284, 12)\n",
            "y_train.shape = (2284,)\n",
            "X_cv.shape = (761, 12)\n",
            "y_cv.shape = (761,)\n",
            "X_train_cv.shape = (3045, 12)\n",
            "y_train_cv.shape = (3045,)\n",
            "X_sample.shape = (761, 12)\n",
            "y_sample.shape = (761,)\n"
          ],
          "name": "stdout"
        }
      ]
    },
    {
      "cell_type": "code",
      "metadata": {
        "id": "Wrg3QTT9PXXH",
        "colab_type": "code",
        "colab": {}
      },
      "source": [
        "features = []\n",
        "for i in range(1,N+1):\n",
        "    features.append(\"adj_close_lag_\"+str(i))\n",
        "    features.append(\"range_hl_lag_\"+str(i))\n",
        "    features.append(\"range_oc_lag_\"+str(i))\n",
        "    features.append(\"volume_lag_\"+str(i))\n",
        "\n",
        "target = \"adj_close\"\n",
        "\n",
        "\n",
        "\n"
      ],
      "execution_count": 0,
      "outputs": []
    },
    {
      "cell_type": "code",
      "metadata": {
        "id": "Vufs-OOIIg3C",
        "colab_type": "code",
        "colab": {
          "base_uri": "https://localhost:8080/",
          "height": 119
        },
        "outputId": "921ab5b4-4595-4446-bedb-7771eaa8d290"
      },
      "source": [
        "X_train_scaled = train_scaled[features]\n",
        "y_train_scaled = train_scaled[target]\n",
        "X_cv_scaled = cv_scaled[features]\n",
        "X_train_cv_scaled = train_cv_scaled[features]\n",
        "y_train_cv_scaled = train_cv_scaled[target]\n",
        "X_sample_scaled = test_scaled[features]\n",
        "print(\"X_train_scaled.shape = \" + str(X_train_scaled.shape))\n",
        "print(\"y_train_scaled.shape = \" + str(y_train_scaled.shape))\n",
        "print(\"X_cv_scaled.shape = \" + str(X_cv_scaled.shape))\n",
        "print(\"X_train_cv_scaled.shape = \" + str(X_train_cv_scaled.shape))\n",
        "print(\"y_train_cv_scaled.shape = \" + str(y_train_cv_scaled.shape))\n",
        "print(\"X_sample_scaled.shape = \" + str(X_sample_scaled.shape))"
      ],
      "execution_count": 17,
      "outputs": [
        {
          "output_type": "stream",
          "text": [
            "X_train_scaled.shape = (2284, 12)\n",
            "y_train_scaled.shape = (2284,)\n",
            "X_cv_scaled.shape = (761, 12)\n",
            "X_train_cv_scaled.shape = (3045, 12)\n",
            "y_train_cv_scaled.shape = (3045,)\n",
            "X_sample_scaled.shape = (761, 12)\n"
          ],
          "name": "stdout"
        }
      ]
    },
    {
      "cell_type": "code",
      "metadata": {
        "id": "FSk6jBgmIgqK",
        "colab_type": "code",
        "colab": {
          "base_uri": "https://localhost:8080/",
          "height": 153
        },
        "outputId": "b991176b-ac9b-4b72-8edb-0979abce41d5"
      },
      "source": [
        "# Create the model\n",
        "model = XGBRegressor(seed=model_seed,\n",
        "                     n_estimators=n_estimators,\n",
        "                     max_depth=max_depth,\n",
        "                     learning_rate=learning_rate,\n",
        "                     min_child_weight=min_child_weight,\n",
        "                     subsample=subsample,\n",
        "                     colsample_bytree=colsample_bytree,\n",
        "                     colsample_bylevel=colsample_bylevel,\n",
        "                     gamma=gamma)\n",
        "\n",
        "# Train the regressor\n",
        "model.fit(X_train_scaled, y_train_scaled)"
      ],
      "execution_count": 19,
      "outputs": [
        {
          "output_type": "stream",
          "text": [
            "[04:44:15] WARNING: /workspace/src/objective/regression_obj.cu:152: reg:linear is now deprecated in favor of reg:squarederror.\n"
          ],
          "name": "stdout"
        },
        {
          "output_type": "execute_result",
          "data": {
            "text/plain": [
              "XGBRegressor(base_score=0.5, booster='gbtree', colsample_bylevel=1,\n",
              "             colsample_bynode=1, colsample_bytree=1, gamma=0,\n",
              "             importance_type='gain', learning_rate=0.1, max_delta_step=0,\n",
              "             max_depth=3, min_child_weight=1, missing=None, n_estimators=100,\n",
              "             n_jobs=1, nthread=None, objective='reg:linear', random_state=0,\n",
              "             reg_alpha=0, reg_lambda=1, scale_pos_weight=1, seed=100,\n",
              "             silent=None, subsample=1, verbosity=1)"
            ]
          },
          "metadata": {
            "tags": []
          },
          "execution_count": 19
        }
      ]
    },
    {
      "cell_type": "code",
      "metadata": {
        "id": "0wqc2CtZJz01",
        "colab_type": "code",
        "colab": {
          "base_uri": "https://localhost:8080/",
          "height": 51
        },
        "outputId": "a4a7c192-2a72-484c-fc4e-49b4441f0ff0"
      },
      "source": [
        "# Do prediction on train set\n",
        "est_scaled = model.predict(X_train_scaled)\n",
        "est = est_scaled * math.sqrt(scaler.var_[0]) + scaler.mean_[0]\n",
        "\n",
        "# Calculate RMSE\n",
        "print(\"RMSE on train set = %0.3f\" % math.sqrt(mean_squared_error(y_train, est)))\n",
        "\n",
        "# Calculate MAPE\n",
        "print(\"MAPE on train set = %0.3f%%\" % get_mape(y_train, est))"
      ],
      "execution_count": 20,
      "outputs": [
        {
          "output_type": "stream",
          "text": [
            "RMSE on train set = 3.963\n",
            "MAPE on train set = 1.222%\n"
          ],
          "name": "stdout"
        }
      ]
    },
    {
      "cell_type": "code",
      "metadata": {
        "id": "pVjoxlXRKbGU",
        "colab_type": "code",
        "colab": {
          "base_uri": "https://localhost:8080/",
          "height": 498
        },
        "outputId": "7ad86e2a-da7e-4ef7-b392-230576ca0de4"
      },
      "source": [
        "# Plot adjusted close over time\n",
        "rcParams['figure.figsize'] = 10, 8 # width 10, height 8\n",
        "\n",
        "est_df = pd.DataFrame({'est': est, \n",
        "                       'date': train['date']})\n",
        "\n",
        "ax = train.plot(x='date', y='adj_close', style='b-', grid=True)\n",
        "ax = cv.plot(x='date', y='adj_close', style='y-', grid=True, ax=ax)\n",
        "ax = test.plot(x='date', y='adj_close', style='g-', grid=True, ax=ax)\n",
        "ax = est_df.plot(x='date', y='est', style='r-', grid=True, ax=ax)\n",
        "ax.legend(['train', 'dev', 'test', 'predictions'])\n",
        "ax.set_xlabel(\"date\")\n",
        "ax.set_ylabel(\"USD\")\n",
        "ax.set_title('Without scaling')"
      ],
      "execution_count": 22,
      "outputs": [
        {
          "output_type": "execute_result",
          "data": {
            "text/plain": [
              "Text(0.5, 1.0, 'Without scaling')"
            ]
          },
          "metadata": {
            "tags": []
          },
          "execution_count": 22
        },
        {
          "output_type": "display_data",
          "data": {
            "image/png": "[encoded data removed]",
            "text/plain": [
              "<Figure size 720x576 with 1 Axes>"
            ]
          },
          "metadata": {
            "tags": [],
            "needs_background": "light"
          }
        }
      ]
    },
    {
      "cell_type": "code",
      "metadata": {
        "id": "TVR2In1IKa4d",
        "colab_type": "code",
        "colab": {
          "base_uri": "https://localhost:8080/",
          "height": 255
        },
        "outputId": "a03d6368-d0a1-49c9-c413-ae56eadd342b"
      },
      "source": [
        "# Do prediction on test set\n",
        "est_scaled = model.predict(X_cv_scaled)\n",
        "cv['est_scaled'] = est_scaled\n",
        "cv['est'] = cv['est_scaled'] * cv['adj_close_std'] + cv['adj_close_mean']\n",
        "\n",
        "# Calculate RMSE\n",
        "rmse_bef_tuning = math.sqrt(mean_squared_error(y_cv, cv['est']))\n",
        "print(\"RMSE on dev set = %0.3f\" % rmse_bef_tuning)\n",
        "\n",
        "# Calculate MAPE\n",
        "mape_bef_tuning = get_mape(y_cv, cv['est'])\n",
        "print(\"MAPE on dev set = %0.3f%%\" % mape_bef_tuning)"
      ],
      "execution_count": 23,
      "outputs": [
        {
          "output_type": "stream",
          "text": [
            "RMSE on dev set = 9.467\n",
            "MAPE on dev set = 1.033%\n"
          ],
          "name": "stdout"
        },
        {
          "output_type": "stream",
          "text": [
            "/usr/local/lib/python3.6/dist-packages/ipykernel_launcher.py:2: SettingWithCopyWarning: \n",
            "A value is trying to be set on a copy of a slice from a DataFrame.\n",
            "Try using .loc[row_indexer,col_indexer] = value instead\n",
            "\n",
            "See the caveats in the documentation: https://pandas.pydata.org/pandas-docs/stable/user_guide/indexing.html#returning-a-view-versus-a-copy\n",
            "  \n",
            "/usr/local/lib/python3.6/dist-packages/ipykernel_launcher.py:3: SettingWithCopyWarning: \n",
            "A value is trying to be set on a copy of a slice from a DataFrame.\n",
            "Try using .loc[row_indexer,col_indexer] = value instead\n",
            "\n",
            "See the caveats in the documentation: https://pandas.pydata.org/pandas-docs/stable/user_guide/indexing.html#returning-a-view-versus-a-copy\n",
            "  This is separate from the ipykernel package so we can avoid doing imports until\n"
          ],
          "name": "stderr"
        }
      ]
    },
    {
      "cell_type": "code",
      "metadata": {
        "id": "QfR7Ogh2KlA1",
        "colab_type": "code",
        "colab": {
          "base_uri": "https://localhost:8080/",
          "height": 482
        },
        "outputId": "0a4300eb-5cc1-4d44-85d9-e5a94ca8e253"
      },
      "source": [
        "# Plot adjusted close over time\n",
        "rcParams['figure.figsize'] = 10, 8 # width 10, height 8\n",
        "\n",
        "est_df = pd.DataFrame({'est': cv['est'], \n",
        "                       'y_cv': y_cv,\n",
        "                       'date': cv['date']})\n",
        "\n",
        "ax = train.plot(x='date', y='adj_close', style='b-', grid=True)\n",
        "ax = cv.plot(x='date', y='adj_close', style='y-', grid=True, ax=ax)\n",
        "ax = test.plot(x='date', y='adj_close', style='g-', grid=True, ax=ax)\n",
        "ax = est_df.plot(x='date', y='est', style='r-', grid=True, ax=ax)\n",
        "ax.legend(['train', 'dev', 'test', 'predictions'])\n",
        "ax.set_xlabel(\"date\")\n",
        "ax.set_ylabel(\"USD\")"
      ],
      "execution_count": 24,
      "outputs": [
        {
          "output_type": "execute_result",
          "data": {
            "text/plain": [
              "Text(0, 0.5, 'USD')"
            ]
          },
          "metadata": {
            "tags": []
          },
          "execution_count": 24
        },
        {
          "output_type": "display_data",
          "data": {
            "image/png": "[encoded data removed]",
            "text/plain": [
              "<Figure size 720x576 with 1 Axes>"
            ]
          },
          "metadata": {
            "tags": [],
            "needs_background": "light"
          }
        }
      ]
    },
    {
      "cell_type": "code",
      "metadata": {
        "id": "sMX4NDTGKk12",
        "colab_type": "code",
        "colab": {
          "base_uri": "https://localhost:8080/",
          "height": 506
        },
        "outputId": "e098cad1-c609-47c0-8132-7029c521010c"
      },
      "source": [
        "# Plot adjusted close over time, for dev set only\n",
        "rcParams['figure.figsize'] = 10, 8 # width 10, height 8\n",
        "ax = train.plot(x='date', y='adj_close', style='b-', grid=True)\n",
        "ax = cv.plot(x='date', y='adj_close', style='y-', grid=True, ax=ax)\n",
        "ax = test.plot(x='date', y='adj_close', style='g-', grid=True, ax=ax)\n",
        "ax = est_df.plot(x='date', y='est', style='r-', grid=True, ax=ax)\n",
        "ax.legend(['train', 'dev', 'test', 'predictions'])\n",
        "ax.set_xlabel(\"date\")\n",
        "ax.set_ylabel(\"USD\")\n",
        "ax.set_xlim([date(2017, 8, 1), date(2018, 5, 31)])\n",
        "ax.set_title(\"Zoom in to dev set\")"
      ],
      "execution_count": 25,
      "outputs": [
        {
          "output_type": "execute_result",
          "data": {
            "text/plain": [
              "Text(0.5, 1.0, 'Zoom in to dev set')"
            ]
          },
          "metadata": {
            "tags": []
          },
          "execution_count": 25
        },
        {
          "output_type": "display_data",
          "data": {
            "image/png": "[encoded data removed]",
            "text/plain": [
              "<Figure size 720x576 with 1 Axes>"
            ]
          },
          "metadata": {
            "tags": [],
            "needs_background": "light"
          }
        }
      ]
    }
  ]
}