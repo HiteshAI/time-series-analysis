{
  "nbformat": 4,
  "nbformat_minor": 0,
  "metadata": {
    "kernelspec": {
      "display_name": "Python 3",
      "language": "python",
      "name": "python3"
    },
    "language_info": {
      "codemirror_mode": {
        "name": "ipython",
        "version": 3
      },
      "file_extension": ".py",
      "mimetype": "text/x-python",
      "name": "python",
      "nbconvert_exporter": "python",
      "pygments_lexer": "ipython3",
      "version": "3.6.3"
    },
    "colab": {
      "name": "time-series-analysis-google-stock-ARIMA.ipynb",
      "provenance": [],
      "include_colab_link": true
    }
  },
  "cells": [
    {
      "cell_type": "markdown",
      "metadata": {
        "id": "view-in-github",
        "colab_type": "text"
      },
      "source": [
        "<a href=\"https://colab.research.google.com/github/HiteshAI/time-series-analysis/blob/master/time_series_analysis_google_stock_ARIMA.ipynb\" target=\"_parent\"><img src=\"https://colab.research.google.com/assets/colab-badge.svg\" alt=\"Open In Colab\"/></a>"
      ]
    },
    {
      "cell_type": "markdown",
      "metadata": {
        "collapsed": true,
        "id": "0aWOoKT28WJP",
        "colab_type": "text"
      },
      "source": [
        "# Time series analysis with ARIMA\n",
        "Get the google stock data"
      ]
    },
    {
      "cell_type": "markdown",
      "metadata": {
        "id": "CzBfgPCY8WJZ",
        "colab_type": "text"
      },
      "source": [
        "## Import libraries and get sample data"
      ]
    },
    {
      "cell_type": "code",
      "metadata": {
        "id": "AUtqrJ798WJc",
        "colab_type": "code",
        "outputId": "85d590e6-326a-401b-97a1-4f73056c5d00",
        "colab": {
          "base_uri": "https://localhost:8080/",
          "height": 238
        }
      },
      "source": [
        "# Import libraries\n",
        "import pandas as pd\n",
        "import matplotlib.pyplot as plt\n",
        "!pip install pmdarima\n"
      ],
      "execution_count": 1,
      "outputs": [
        {
          "output_type": "stream",
          "text": [
            "Requirement already satisfied: pmdarima in /usr/local/lib/python3.6/dist-packages (1.5.3)\n",
            "Requirement already satisfied: urllib3 in /usr/local/lib/python3.6/dist-packages (from pmdarima) (1.24.3)\n",
            "Requirement already satisfied: scipy>=1.3.2 in /usr/local/lib/python3.6/dist-packages (from pmdarima) (1.4.1)\n",
            "Requirement already satisfied: pandas>=0.19 in /usr/local/lib/python3.6/dist-packages (from pmdarima) (1.0.3)\n",
            "Requirement already satisfied: statsmodels>=0.10.2 in /usr/local/lib/python3.6/dist-packages (from pmdarima) (0.10.2)\n",
            "Requirement already satisfied: numpy>=1.17.3 in /usr/local/lib/python3.6/dist-packages (from pmdarima) (1.18.2)\n",
            "Requirement already satisfied: scikit-learn>=0.22 in /usr/local/lib/python3.6/dist-packages (from pmdarima) (0.22.2.post1)\n",
            "Requirement already satisfied: Cython>=0.29 in /usr/local/lib/python3.6/dist-packages (from pmdarima) (0.29.16)\n",
            "Requirement already satisfied: joblib>=0.11 in /usr/local/lib/python3.6/dist-packages (from pmdarima) (0.14.1)\n",
            "Requirement already satisfied: python-dateutil>=2.6.1 in /usr/local/lib/python3.6/dist-packages (from pandas>=0.19->pmdarima) (2.8.1)\n",
            "Requirement already satisfied: pytz>=2017.2 in /usr/local/lib/python3.6/dist-packages (from pandas>=0.19->pmdarima) (2018.9)\n",
            "Requirement already satisfied: patsy>=0.4.0 in /usr/local/lib/python3.6/dist-packages (from statsmodels>=0.10.2->pmdarima) (0.5.1)\n",
            "Requirement already satisfied: six>=1.5 in /usr/local/lib/python3.6/dist-packages (from python-dateutil>=2.6.1->pandas>=0.19->pmdarima) (1.12.0)\n"
          ],
          "name": "stdout"
        }
      ]
    },
    {
      "cell_type": "code",
      "metadata": {
        "id": "rtL1LPzf8WJ8",
        "colab_type": "code",
        "outputId": "552b1575-bd6f-4887-e4c0-9d9a5f95ed36",
        "colab": {
          "base_uri": "https://localhost:8080/",
          "height": 221
        }
      },
      "source": [
        "#load the data\n",
        "data = pd.read_csv('google_stock_data.csv')\n",
        "print(data.columns)\n",
        "\n",
        "data.tail()\n"
      ],
      "execution_count": 2,
      "outputs": [
        {
          "output_type": "stream",
          "text": [
            "Index(['Date', 'Open', 'High', 'Low', 'Close', 'Adj Close', 'Volume'], dtype='object')\n"
          ],
          "name": "stdout"
        },
        {
          "output_type": "execute_result",
          "data": {
            "text/html": [
              "<div>\n",
              "<style scoped>\n",
              "    .dataframe tbody tr th:only-of-type {\n",
              "        vertical-align: middle;\n",
              "    }\n",
              "\n",
              "    .dataframe tbody tr th {\n",
              "        vertical-align: top;\n",
              "    }\n",
              "\n",
              "    .dataframe thead th {\n",
              "        text-align: right;\n",
              "    }\n",
              "</style>\n",
              "<table border=\"1\" class=\"dataframe\">\n",
              "  <thead>\n",
              "    <tr style=\"text-align: right;\">\n",
              "      <th></th>\n",
              "      <th>Date</th>\n",
              "      <th>Open</th>\n",
              "      <th>High</th>\n",
              "      <th>Low</th>\n",
              "      <th>Close</th>\n",
              "      <th>Adj Close</th>\n",
              "      <th>Volume</th>\n",
              "    </tr>\n",
              "  </thead>\n",
              "  <tbody>\n",
              "    <tr>\n",
              "      <th>3804</th>\n",
              "      <td>2019-09-30</td>\n",
              "      <td>1220.969971</td>\n",
              "      <td>1226.000000</td>\n",
              "      <td>1212.300049</td>\n",
              "      <td>1219.000000</td>\n",
              "      <td>1219.000000</td>\n",
              "      <td>1404100</td>\n",
              "    </tr>\n",
              "    <tr>\n",
              "      <th>3805</th>\n",
              "      <td>2019-10-01</td>\n",
              "      <td>1219.000000</td>\n",
              "      <td>1231.229980</td>\n",
              "      <td>1203.579956</td>\n",
              "      <td>1205.099976</td>\n",
              "      <td>1205.099976</td>\n",
              "      <td>1273500</td>\n",
              "    </tr>\n",
              "    <tr>\n",
              "      <th>3806</th>\n",
              "      <td>2019-10-02</td>\n",
              "      <td>1196.979980</td>\n",
              "      <td>1196.979980</td>\n",
              "      <td>1171.290039</td>\n",
              "      <td>1176.630005</td>\n",
              "      <td>1176.630005</td>\n",
              "      <td>1615100</td>\n",
              "    </tr>\n",
              "    <tr>\n",
              "      <th>3807</th>\n",
              "      <td>2019-10-03</td>\n",
              "      <td>1180.000000</td>\n",
              "      <td>1189.060059</td>\n",
              "      <td>1162.430054</td>\n",
              "      <td>1187.829956</td>\n",
              "      <td>1187.829956</td>\n",
              "      <td>1621200</td>\n",
              "    </tr>\n",
              "    <tr>\n",
              "      <th>3808</th>\n",
              "      <td>2019-10-04</td>\n",
              "      <td>1191.890015</td>\n",
              "      <td>1211.439941</td>\n",
              "      <td>1189.170044</td>\n",
              "      <td>1209.000000</td>\n",
              "      <td>1209.000000</td>\n",
              "      <td>1021092</td>\n",
              "    </tr>\n",
              "  </tbody>\n",
              "</table>\n",
              "</div>"
            ],
            "text/plain": [
              "            Date         Open         High  ...        Close    Adj Close   Volume\n",
              "3804  2019-09-30  1220.969971  1226.000000  ...  1219.000000  1219.000000  1404100\n",
              "3805  2019-10-01  1219.000000  1231.229980  ...  1205.099976  1205.099976  1273500\n",
              "3806  2019-10-02  1196.979980  1196.979980  ...  1176.630005  1176.630005  1615100\n",
              "3807  2019-10-03  1180.000000  1189.060059  ...  1187.829956  1187.829956  1621200\n",
              "3808  2019-10-04  1191.890015  1211.439941  ...  1209.000000  1209.000000  1021092\n",
              "\n",
              "[5 rows x 7 columns]"
            ]
          },
          "metadata": {
            "tags": []
          },
          "execution_count": 2
        }
      ]
    },
    {
      "cell_type": "code",
      "metadata": {
        "id": "C3_JItqKsV2k",
        "colab_type": "code",
        "colab": {
          "base_uri": "https://localhost:8080/",
          "height": 204
        },
        "outputId": "f9a2db2e-0c9c-4907-ed28-dbe0344142a4"
      },
      "source": [
        "#preprocessing (since arima takes univariate series as input)\n",
        "data.drop(['Date', 'Adj Close', 'High', 'Low', 'Close', 'Volume'], axis = 1, inplace=True)\n",
        "data.head()"
      ],
      "execution_count": 3,
      "outputs": [
        {
          "output_type": "execute_result",
          "data": {
            "text/html": [
              "<div>\n",
              "<style scoped>\n",
              "    .dataframe tbody tr th:only-of-type {\n",
              "        vertical-align: middle;\n",
              "    }\n",
              "\n",
              "    .dataframe tbody tr th {\n",
              "        vertical-align: top;\n",
              "    }\n",
              "\n",
              "    .dataframe thead th {\n",
              "        text-align: right;\n",
              "    }\n",
              "</style>\n",
              "<table border=\"1\" class=\"dataframe\">\n",
              "  <thead>\n",
              "    <tr style=\"text-align: right;\">\n",
              "      <th></th>\n",
              "      <th>Open</th>\n",
              "    </tr>\n",
              "  </thead>\n",
              "  <tbody>\n",
              "    <tr>\n",
              "      <th>0</th>\n",
              "      <td>49.813286</td>\n",
              "    </tr>\n",
              "    <tr>\n",
              "      <th>1</th>\n",
              "      <td>50.316402</td>\n",
              "    </tr>\n",
              "    <tr>\n",
              "      <th>2</th>\n",
              "      <td>55.168217</td>\n",
              "    </tr>\n",
              "    <tr>\n",
              "      <th>3</th>\n",
              "      <td>55.412300</td>\n",
              "    </tr>\n",
              "    <tr>\n",
              "      <th>4</th>\n",
              "      <td>52.284027</td>\n",
              "    </tr>\n",
              "  </tbody>\n",
              "</table>\n",
              "</div>"
            ],
            "text/plain": [
              "        Open\n",
              "0  49.813286\n",
              "1  50.316402\n",
              "2  55.168217\n",
              "3  55.412300\n",
              "4  52.284027"
            ]
          },
          "metadata": {
            "tags": []
          },
          "execution_count": 3
        }
      ]
    },
    {
      "cell_type": "code",
      "metadata": {
        "id": "zRTRl3gA3Ago",
        "colab_type": "code",
        "colab": {
          "base_uri": "https://localhost:8080/",
          "height": 204
        },
        "outputId": "93e2c085-c48f-49f5-c047-7ccf19abc970"
      },
      "source": [
        "data.tail()"
      ],
      "execution_count": 4,
      "outputs": [
        {
          "output_type": "execute_result",
          "data": {
            "text/html": [
              "<div>\n",
              "<style scoped>\n",
              "    .dataframe tbody tr th:only-of-type {\n",
              "        vertical-align: middle;\n",
              "    }\n",
              "\n",
              "    .dataframe tbody tr th {\n",
              "        vertical-align: top;\n",
              "    }\n",
              "\n",
              "    .dataframe thead th {\n",
              "        text-align: right;\n",
              "    }\n",
              "</style>\n",
              "<table border=\"1\" class=\"dataframe\">\n",
              "  <thead>\n",
              "    <tr style=\"text-align: right;\">\n",
              "      <th></th>\n",
              "      <th>Open</th>\n",
              "    </tr>\n",
              "  </thead>\n",
              "  <tbody>\n",
              "    <tr>\n",
              "      <th>3804</th>\n",
              "      <td>1220.969971</td>\n",
              "    </tr>\n",
              "    <tr>\n",
              "      <th>3805</th>\n",
              "      <td>1219.000000</td>\n",
              "    </tr>\n",
              "    <tr>\n",
              "      <th>3806</th>\n",
              "      <td>1196.979980</td>\n",
              "    </tr>\n",
              "    <tr>\n",
              "      <th>3807</th>\n",
              "      <td>1180.000000</td>\n",
              "    </tr>\n",
              "    <tr>\n",
              "      <th>3808</th>\n",
              "      <td>1191.890015</td>\n",
              "    </tr>\n",
              "  </tbody>\n",
              "</table>\n",
              "</div>"
            ],
            "text/plain": [
              "             Open\n",
              "3804  1220.969971\n",
              "3805  1219.000000\n",
              "3806  1196.979980\n",
              "3807  1180.000000\n",
              "3808  1191.890015"
            ]
          },
          "metadata": {
            "tags": []
          },
          "execution_count": 4
        }
      ]
    },
    {
      "cell_type": "code",
      "metadata": {
        "id": "4acDcxFHsdw1",
        "colab_type": "code",
        "colab": {
          "base_uri": "https://localhost:8080/",
          "height": 51
        },
        "outputId": "47e086b5-74c9-4317-bb83-94bd355464b8"
      },
      "source": [
        "data.isnull().sum()\n",
        "# data = data[data['Open'].notna()]"
      ],
      "execution_count": 5,
      "outputs": [
        {
          "output_type": "execute_result",
          "data": {
            "text/plain": [
              "Open    0\n",
              "dtype: int64"
            ]
          },
          "metadata": {
            "tags": []
          },
          "execution_count": 5
        }
      ]
    },
    {
      "cell_type": "code",
      "metadata": {
        "id": "NBJlX5ZfrJGY",
        "colab_type": "code",
        "colab": {
          "base_uri": "https://localhost:8080/",
          "height": 282
        },
        "outputId": "642bd589-b5ba-49c3-b343-cd7b678cb41d"
      },
      "source": [
        "#divide into train and validation set\n",
        "train = data[:int(0.75*(len(data)))]\n",
        "valid = data[int(0.75*(len(data))):]\n",
        "\n",
        "\n",
        "#plotting the data\n",
        "train['Open'].plot()\n",
        "valid['Open'].plot()\n"
      ],
      "execution_count": 6,
      "outputs": [
        {
          "output_type": "execute_result",
          "data": {
            "text/plain": [
              "<matplotlib.axes._subplots.AxesSubplot at 0x7f734f14c780>"
            ]
          },
          "metadata": {
            "tags": []
          },
          "execution_count": 6
        },
        {
          "output_type": "display_data",
          "data": {
            "image/png": "[encoded data removed]",
            "text/plain": [
              "<Figure size 432x288 with 1 Axes>"
            ]
          },
          "metadata": {
            "tags": [],
            "needs_background": "light"
          }
        }
      ]
    },
    {
      "cell_type": "code",
      "metadata": {
        "id": "HRqNsY_2xnge",
        "colab_type": "code",
        "colab": {}
      },
      "source": [
        ""
      ],
      "execution_count": 0,
      "outputs": []
    },
    {
      "cell_type": "code",
      "metadata": {
        "id": "EnB4iOr58WKU",
        "colab_type": "code",
        "outputId": "c133c8d5-8026-40ef-a750-0b5fcf3940fd",
        "colab": {
          "base_uri": "https://localhost:8080/",
          "height": 275
        }
      },
      "source": [
        "#building the model\n",
        "from pmdarima.arima import auto_arima\n",
        "model = auto_arima(train, trace=True, error_action='ignore', suppress_warnings=True)\n",
        "model.fit(train)\n",
        "\n",
        "forecast = model.predict(n_periods=len(valid))\n",
        "forecast = pd.DataFrame(forecast,index = valid.index,columns=['Prediction'])\n",
        "\n",
        "\n"
      ],
      "execution_count": 7,
      "outputs": [
        {
          "output_type": "stream",
          "text": [
            "/usr/local/lib/python3.6/dist-packages/statsmodels/tools/_testing.py:19: FutureWarning: pandas.util.testing is deprecated. Use the functions in the public API at pandas.testing instead.\n",
            "  import pandas.util.testing as tm\n"
          ],
          "name": "stderr"
        },
        {
          "output_type": "stream",
          "text": [
            "Performing stepwise search to minimize aic\n",
            "Fit ARIMA: (2, 1, 2)x(0, 0, 0, 0) (constant=True); AIC=18403.015, BIC=18438.756, Time=2.388 seconds\n",
            "Fit ARIMA: (0, 1, 0)x(0, 0, 0, 0) (constant=True); AIC=18415.648, BIC=18427.562, Time=0.098 seconds\n",
            "Fit ARIMA: (1, 1, 0)x(0, 0, 0, 0) (constant=True); AIC=18409.270, BIC=18427.141, Time=0.163 seconds\n",
            "Fit ARIMA: (0, 1, 1)x(0, 0, 0, 0) (constant=True); AIC=18409.815, BIC=18427.685, Time=0.494 seconds\n",
            "Fit ARIMA: (0, 1, 0)x(0, 0, 0, 0) (constant=False); AIC=18418.234, BIC=18424.191, Time=0.069 seconds\n",
            "Fit ARIMA: (1, 1, 2)x(0, 0, 0, 0) (constant=True); AIC=18400.833, BIC=18430.618, Time=0.888 seconds\n",
            "Fit ARIMA: (0, 1, 2)x(0, 0, 0, 0) (constant=True); AIC=18408.526, BIC=18432.353, Time=0.574 seconds\n",
            "Fit ARIMA: (1, 1, 1)x(0, 0, 0, 0) (constant=True); AIC=18399.193, BIC=18423.021, Time=0.900 seconds\n",
            "Fit ARIMA: (2, 1, 1)x(0, 0, 0, 0) (constant=True); AIC=18400.831, BIC=18430.615, Time=1.477 seconds\n",
            "Fit ARIMA: (2, 1, 0)x(0, 0, 0, 0) (constant=True); AIC=18407.773, BIC=18431.600, Time=0.512 seconds\n",
            "Total fit time: 7.580 seconds\n"
          ],
          "name": "stdout"
        }
      ]
    },
    {
      "cell_type": "markdown",
      "metadata": {
        "id": "yumRZVxx8WLV",
        "colab_type": "text"
      },
      "source": [
        "# **Visualization**"
      ]
    },
    {
      "cell_type": "code",
      "metadata": {
        "id": "7DivgM9uy-l5",
        "colab_type": "code",
        "colab": {
          "base_uri": "https://localhost:8080/",
          "height": 279
        },
        "outputId": "c61c710d-ffc1-492e-d922-1cd217273d09"
      },
      "source": [
        "#plot the predictions for validation set\n",
        "plt.plot(train, label='Train')\n",
        "plt.plot(valid, label='Valid')\n",
        "plt.plot(forecast, label='Prediction')\n",
        "plt.ylabel('Monthly airline passengers (x1000)')\n",
        "plt.xlabel('Date')\n",
        "plt.legend()\n",
        "plt.show()"
      ],
      "execution_count": 8,
      "outputs": [
        {
          "output_type": "display_data",
          "data": {
            "image/png": "[encoded data removed]",
            "text/plain": [
              "<Figure size 432x288 with 1 Axes>"
            ]
          },
          "metadata": {
            "tags": [],
            "needs_background": "light"
          }
        }
      ]
    },
    {
      "cell_type": "code",
      "metadata": {
        "id": "YhKInGrrxMqp",
        "colab_type": "code",
        "colab": {
          "base_uri": "https://localhost:8080/",
          "height": 34
        },
        "outputId": "30a5aea1-500b-4343-ecce-de49f85ab536"
      },
      "source": [
        "#calculate rmse\n",
        "from math import sqrt\n",
        "from sklearn.metrics import mean_squared_error\n",
        "\n",
        "rms = sqrt(mean_squared_error(valid,forecast))\n",
        "print(rms)"
      ],
      "execution_count": 9,
      "outputs": [
        {
          "output_type": "stream",
          "text": [
            "157.9329109652869\n"
          ],
          "name": "stdout"
        }
      ]
    }
  ]
}