{
  "nbformat": 4,
  "nbformat_minor": 0,
  "metadata": {
    "colab": {
      "name": "google-stock-prediction-using-prophet.ipynb",
      "provenance": [],
      "private_outputs": true,
      "authorship_tag": "ABX9TyOOnBZNJGgXVgQIoy0VVPlr",
      "include_colab_link": true
    },
    "kernelspec": {
      "name": "python3",
      "display_name": "Python 3"
    }
  },
  "cells": [
    {
      "cell_type": "markdown",
      "metadata": {
        "id": "view-in-github",
        "colab_type": "text"
      },
      "source": [
        "<a href=\"https://colab.research.google.com/github/HiteshAI/time-series-analysis/blob/master/google_stock_prediction_using_prophet.ipynb\" target=\"_parent\"><img src=\"https://colab.research.google.com/assets/colab-badge.svg\" alt=\"Open In Colab\"/></a>"
      ]
    },
    {
      "cell_type": "markdown",
      "metadata": {
        "id": "D8TQYHscCaqu",
        "colab_type": "text"
      },
      "source": [
        "# **Import necessary libraries and upload data**"
      ]
    },
    {
      "cell_type": "code",
      "metadata": {
        "id": "nz_h1R7We_7v",
        "colab_type": "code",
        "colab": {}
      },
      "source": [
        "import pandas as pd\n",
        "from fbprophet import Prophet\n",
        "import matplotlib.pyplot as plt\n",
        "data = pd.read_csv('google_stock_data.csv')\n",
        "data.head()\n",
        "data.tail()"
      ],
      "execution_count": 0,
      "outputs": []
    },
    {
      "cell_type": "markdown",
      "metadata": {
        "id": "rXONU-p7Fup3",
        "colab_type": "text"
      },
      "source": [
        "# **Prepare input data**\n",
        "The input to Prophet is always a dataframe with two columns: ds and y. The ds (datestamp) column should be of a format expected by Pandas, ideally YYYY-MM-DD for a date or YYYY-MM-DD HH:MM:SS for a timestamp. The y column must be target, which is our opening stock price. Thus, drop other columns and rename the columns"
      ]
    },
    {
      "cell_type": "code",
      "metadata": {
        "id": "wQNanPjgfnB-",
        "colab_type": "code",
        "colab": {}
      },
      "source": [
        "df = data.drop(['High','Low', 'Close', 'Adj Close', 'Volume'],axis=1)\n",
        "df = df.rename(columns={\"Date\":\"ds\", \"Open\":\"y\"})\n",
        "# df= df.set_index('ds')\n",
        "df.head()"
      ],
      "execution_count": 0,
      "outputs": []
    },
    {
      "cell_type": "markdown",
      "metadata": {
        "id": "_5qRcmanGZwQ",
        "colab_type": "text"
      },
      "source": [
        "# **Prepare training/validation set and visualize the data**"
      ]
    },
    {
      "cell_type": "code",
      "metadata": {
        "id": "pPK7pyGbOeCo",
        "colab_type": "code",
        "colab": {}
      },
      "source": [
        "# Plot the data\n",
        "plt.style.use('fivethirtyeight')\n",
        "df.plot(x=\"ds\",y=\"y\", title=\"Opening Price of Stock\", grid=True, legend=False, linewidth=1, figsize=(15,5))\n",
        "plt.show()\n"
      ],
      "execution_count": 0,
      "outputs": []
    },
    {
      "cell_type": "code",
      "metadata": {
        "id": "1ZOtc2dRNk_q",
        "colab_type": "code",
        "colab": {}
      },
      "source": [
        "# Split the data in train/test set\n",
        "train = df[:int(0.85*(len(df)))]\n",
        "valid = df[int(0.85*(len(df))):]\n",
        "plt.figure(figsize=(14,5))\n",
        "train['y'].plot()\n",
        "valid['y'].plot()"
      ],
      "execution_count": 0,
      "outputs": []
    },
    {
      "cell_type": "markdown",
      "metadata": {
        "id": "Fd269w1QPCx9",
        "colab_type": "text"
      },
      "source": [
        "# **Fit the model with training data**"
      ]
    },
    {
      "cell_type": "code",
      "metadata": {
        "id": "NdnRq8Hefdn2",
        "colab_type": "code",
        "colab": {}
      },
      "source": [
        "model = Prophet()\n",
        "model.fit(train)"
      ],
      "execution_count": 0,
      "outputs": []
    },
    {
      "cell_type": "markdown",
      "metadata": {
        "id": "ra7CNPjyWb9q",
        "colab_type": "text"
      },
      "source": [
        "# **Predictions**"
      ]
    },
    {
      "cell_type": "code",
      "metadata": {
        "id": "tCg-yiecfklP",
        "colab_type": "code",
        "colab": {}
      },
      "source": [
        "#make prediction into the future as per specified period i.e duration of validation data\n",
        "future = model.make_future_dataframe(periods=len(valid))\n",
        "#The predict method provides predicted value yhat as well as columns for components and uncertainty intervals.\n",
        "forecast = model.predict(future)\n",
        "forecast[['ds', 'yhat', 'yhat_lower', 'yhat_upper']].tail()"
      ],
      "execution_count": 0,
      "outputs": []
    },
    {
      "cell_type": "markdown",
      "metadata": {
        "id": "eyizTl6oXtw9",
        "colab_type": "text"
      },
      "source": [
        "# **Visualization**"
      ]
    },
    {
      "cell_type": "code",
      "metadata": {
        "id": "1gi2AZa5iwsC",
        "colab_type": "code",
        "colab": {}
      },
      "source": [
        "#let us plot the forecast\n",
        "fig1 = model.plot(forecast, figsize= (20,10))"
      ],
      "execution_count": 0,
      "outputs": []
    },
    {
      "cell_type": "code",
      "metadata": {
        "id": "YlNhfIVYiwfS",
        "colab_type": "code",
        "colab": {}
      },
      "source": [
        "fig2 = model.plot_components(forecast, figsize=(20,10))\n"
      ],
      "execution_count": 0,
      "outputs": []
    },
    {
      "cell_type": "code",
      "metadata": {
        "id": "8RssJMfFxk6L",
        "colab_type": "code",
        "colab": {}
      },
      "source": [
        "#Finally lets view our forecast against the data \n",
        "plt.figure(figsize=(20,10))\n",
        "plt.plot(train['y'], label='Train', linewidth=2.0)\n",
        "plt.plot(valid['y'], label='Valid', linewidth=2.0)\n",
        "plt.plot(forecast['yhat'], label='Prediction', linewidth=4.0)\n",
        "plt.ylabel('Open price')\n",
        "plt.xlabel('Date')\n",
        "plt.legend()\n",
        "plt.show()"
      ],
      "execution_count": 0,
      "outputs": []
    }
  ]
}